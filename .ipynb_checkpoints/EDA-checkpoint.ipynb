{
 "cells": [
  {
   "cell_type": "code",
   "execution_count": 15,
   "id": "cd4965e2-b467-4a4d-afc1-a6939fbf35ea",
   "metadata": {},
   "outputs": [],
   "source": [
    "from urllib.request import urlopen\n",
    "import json\n",
    "import plotly.express as px\n",
    "import pandas as pd"
   ]
  },
  {
   "cell_type": "code",
   "execution_count": 16,
   "id": "dbd29c6a-5158-4248-97fc-dac88f58314c",
   "metadata": {},
   "outputs": [],
   "source": [
    "with urlopen('https://raw.githubusercontent.com/plotly/datasets/master/geojson-counties-fips.json') as response:\n",
    "    counties = json.load(response)\n",
    "\n",
    "df = pd.read_csv(\"https://raw.githubusercontent.com/plotly/datasets/master/fips-unemp-16.csv\",\n",
    "                   dtype={\"fips\": str})\n"
   ]
  },
  {
   "cell_type": "code",
   "execution_count": null,
   "id": "e5ea13d2-8be4-4145-bfcb-e3bba9406663",
   "metadata": {},
   "outputs": [],
   "source": []
  },
  {
   "cell_type": "code",
   "execution_count": 3,
   "id": "043f5b68-a438-4b5f-8135-d91c3f8252ea",
   "metadata": {
    "scrolled": true
   },
   "outputs": [
    {
     "data": {
      "text/html": [
       "<div>\n",
       "<style scoped>\n",
       "    .dataframe tbody tr th:only-of-type {\n",
       "        vertical-align: middle;\n",
       "    }\n",
       "\n",
       "    .dataframe tbody tr th {\n",
       "        vertical-align: top;\n",
       "    }\n",
       "\n",
       "    .dataframe thead th {\n",
       "        text-align: right;\n",
       "    }\n",
       "</style>\n",
       "<table border=\"1\" class=\"dataframe\">\n",
       "  <thead>\n",
       "    <tr style=\"text-align: right;\">\n",
       "      <th></th>\n",
       "      <th>State</th>\n",
       "      <th>County</th>\n",
       "      <th>CountyFIPS</th>\n",
       "      <th>Year</th>\n",
       "      <th>Total Absolute</th>\n",
       "      <th>Total Percentage</th>\n",
       "      <th>Grocery Tax</th>\n",
       "      <th>Restaurant Tax</th>\n",
       "      <th>tax_delta</th>\n",
       "      <th>Population</th>\n",
       "    </tr>\n",
       "  </thead>\n",
       "  <tbody>\n",
       "    <tr>\n",
       "      <th>0</th>\n",
       "      <td>Alabama</td>\n",
       "      <td>Autauga County</td>\n",
       "      <td>1001</td>\n",
       "      <td>2004</td>\n",
       "      <td>2470.0</td>\n",
       "      <td>7.5</td>\n",
       "      <td>0.04</td>\n",
       "      <td>0.04</td>\n",
       "      <td>0.0</td>\n",
       "      <td>32933.333333</td>\n",
       "    </tr>\n",
       "    <tr>\n",
       "      <th>6</th>\n",
       "      <td>Alabama</td>\n",
       "      <td>Autauga County</td>\n",
       "      <td>1001</td>\n",
       "      <td>2005</td>\n",
       "      <td>3010.0</td>\n",
       "      <td>8.9</td>\n",
       "      <td>0.04</td>\n",
       "      <td>0.04</td>\n",
       "      <td>0.0</td>\n",
       "      <td>33820.226169</td>\n",
       "    </tr>\n",
       "    <tr>\n",
       "      <th>12</th>\n",
       "      <td>Alabama</td>\n",
       "      <td>Autauga County</td>\n",
       "      <td>1001</td>\n",
       "      <td>2006</td>\n",
       "      <td>3482.0</td>\n",
       "      <td>10.0</td>\n",
       "      <td>0.04</td>\n",
       "      <td>0.04</td>\n",
       "      <td>0.0</td>\n",
       "      <td>34820.000000</td>\n",
       "    </tr>\n",
       "    <tr>\n",
       "      <th>18</th>\n",
       "      <td>Alabama</td>\n",
       "      <td>Autauga County</td>\n",
       "      <td>1001</td>\n",
       "      <td>2007</td>\n",
       "      <td>3332.0</td>\n",
       "      <td>9.4</td>\n",
       "      <td>0.04</td>\n",
       "      <td>0.04</td>\n",
       "      <td>0.0</td>\n",
       "      <td>35446.809949</td>\n",
       "    </tr>\n",
       "    <tr>\n",
       "      <th>24</th>\n",
       "      <td>Alabama</td>\n",
       "      <td>Autauga County</td>\n",
       "      <td>1001</td>\n",
       "      <td>2008</td>\n",
       "      <td>3563.0</td>\n",
       "      <td>9.9</td>\n",
       "      <td>0.04</td>\n",
       "      <td>0.04</td>\n",
       "      <td>0.0</td>\n",
       "      <td>35989.900377</td>\n",
       "    </tr>\n",
       "  </tbody>\n",
       "</table>\n",
       "</div>"
      ],
      "text/plain": [
       "      State          County  CountyFIPS  Year  Total Absolute  \\\n",
       "0   Alabama  Autauga County        1001  2004          2470.0   \n",
       "6   Alabama  Autauga County        1001  2005          3010.0   \n",
       "12  Alabama  Autauga County        1001  2006          3482.0   \n",
       "18  Alabama  Autauga County        1001  2007          3332.0   \n",
       "24  Alabama  Autauga County        1001  2008          3563.0   \n",
       "\n",
       "    Total Percentage  Grocery Tax  Restaurant Tax  tax_delta    Population  \n",
       "0                7.5         0.04            0.04        0.0  32933.333333  \n",
       "6                8.9         0.04            0.04        0.0  33820.226169  \n",
       "12              10.0         0.04            0.04        0.0  34820.000000  \n",
       "18               9.4         0.04            0.04        0.0  35446.809949  \n",
       "24               9.9         0.04            0.04        0.0  35989.900377  "
      ]
     },
     "execution_count": 3,
     "metadata": {},
     "output_type": "execute_result"
    }
   ],
   "source": [
    "root_csv = 'Diabetes//csv files/'\n",
    "root_pickle = 'Diabetes/pickle files/'\n",
    "df_diab_total_pivot = pd.read_pickle(root_pickle +'Diabetes_Total_Pivot.pkl')\n",
    "df_diab_total_pivot.head(5)"
   ]
  },
  {
   "cell_type": "code",
   "execution_count": 84,
   "id": "320a2eef-b98e-4a78-a63e-0db31446cdd4",
   "metadata": {},
   "outputs": [],
   "source": [
    "utah_2020=df_diab_total_pivot[(df_diab_total_pivot['State']=='Utah') & (df_diab_total_pivot['Year'] == 2020)]"
   ]
  },
  {
   "cell_type": "code",
   "execution_count": 85,
   "id": "91dcaa42-8419-49e7-a97f-85d1dc713afa",
   "metadata": {},
   "outputs": [
    {
     "data": {
      "text/html": [
       "<div>\n",
       "<style scoped>\n",
       "    .dataframe tbody tr th:only-of-type {\n",
       "        vertical-align: middle;\n",
       "    }\n",
       "\n",
       "    .dataframe tbody tr th {\n",
       "        vertical-align: top;\n",
       "    }\n",
       "\n",
       "    .dataframe thead th {\n",
       "        text-align: right;\n",
       "    }\n",
       "</style>\n",
       "<table border=\"1\" class=\"dataframe\">\n",
       "  <thead>\n",
       "    <tr style=\"text-align: right;\">\n",
       "      <th></th>\n",
       "      <th>State</th>\n",
       "      <th>County</th>\n",
       "      <th>CountyFIPS</th>\n",
       "      <th>Year</th>\n",
       "      <th>Total Absolute</th>\n",
       "      <th>Total Percentage</th>\n",
       "      <th>Grocery Tax</th>\n",
       "      <th>Restaurant Tax</th>\n",
       "      <th>tax_delta</th>\n",
       "      <th>Population</th>\n",
       "    </tr>\n",
       "  </thead>\n",
       "  <tbody>\n",
       "    <tr>\n",
       "      <th>280173</th>\n",
       "      <td>Utah</td>\n",
       "      <td>Morgan County</td>\n",
       "      <td>49029</td>\n",
       "      <td>2020</td>\n",
       "      <td>508.0</td>\n",
       "      <td>6.5</td>\n",
       "      <td>0.061</td>\n",
       "      <td>0.061</td>\n",
       "      <td>0.0</td>\n",
       "      <td>7815.384615</td>\n",
       "    </tr>\n",
       "    <tr>\n",
       "      <th>280275</th>\n",
       "      <td>Utah</td>\n",
       "      <td>Washington County</td>\n",
       "      <td>49053</td>\n",
       "      <td>2020</td>\n",
       "      <td>11558.0</td>\n",
       "      <td>8.6</td>\n",
       "      <td>0.061</td>\n",
       "      <td>0.061</td>\n",
       "      <td>0.0</td>\n",
       "      <td>134395.342876</td>\n",
       "    </tr>\n",
       "    <tr>\n",
       "      <th>280377</th>\n",
       "      <td>Utah</td>\n",
       "      <td>Sevier County</td>\n",
       "      <td>49041</td>\n",
       "      <td>2020</td>\n",
       "      <td>1424.0</td>\n",
       "      <td>9.5</td>\n",
       "      <td>0.061</td>\n",
       "      <td>0.061</td>\n",
       "      <td>0.0</td>\n",
       "      <td>14989.473684</td>\n",
       "    </tr>\n",
       "    <tr>\n",
       "      <th>280479</th>\n",
       "      <td>Utah</td>\n",
       "      <td>Garfield County</td>\n",
       "      <td>49017</td>\n",
       "      <td>2020</td>\n",
       "      <td>373.0</td>\n",
       "      <td>9.8</td>\n",
       "      <td>0.061</td>\n",
       "      <td>0.061</td>\n",
       "      <td>0.0</td>\n",
       "      <td>3806.122375</td>\n",
       "    </tr>\n",
       "    <tr>\n",
       "      <th>280581</th>\n",
       "      <td>Utah</td>\n",
       "      <td>Grand County</td>\n",
       "      <td>49019</td>\n",
       "      <td>2020</td>\n",
       "      <td>585.0</td>\n",
       "      <td>7.8</td>\n",
       "      <td>0.061</td>\n",
       "      <td>0.061</td>\n",
       "      <td>0.0</td>\n",
       "      <td>7499.999817</td>\n",
       "    </tr>\n",
       "    <tr>\n",
       "      <th>280683</th>\n",
       "      <td>Utah</td>\n",
       "      <td>San Juan County</td>\n",
       "      <td>49037</td>\n",
       "      <td>2020</td>\n",
       "      <td>1305.0</td>\n",
       "      <td>12.6</td>\n",
       "      <td>0.061</td>\n",
       "      <td>0.061</td>\n",
       "      <td>0.0</td>\n",
       "      <td>10357.142544</td>\n",
       "    </tr>\n",
       "    <tr>\n",
       "      <th>280785</th>\n",
       "      <td>Utah</td>\n",
       "      <td>Summit County</td>\n",
       "      <td>49043</td>\n",
       "      <td>2020</td>\n",
       "      <td>1886.0</td>\n",
       "      <td>6.0</td>\n",
       "      <td>0.061</td>\n",
       "      <td>0.061</td>\n",
       "      <td>0.0</td>\n",
       "      <td>31433.333333</td>\n",
       "    </tr>\n",
       "    <tr>\n",
       "      <th>280887</th>\n",
       "      <td>Utah</td>\n",
       "      <td>Wayne County</td>\n",
       "      <td>49055</td>\n",
       "      <td>2020</td>\n",
       "      <td>195.0</td>\n",
       "      <td>9.4</td>\n",
       "      <td>0.061</td>\n",
       "      <td>0.061</td>\n",
       "      <td>0.0</td>\n",
       "      <td>2074.468169</td>\n",
       "    </tr>\n",
       "    <tr>\n",
       "      <th>280989</th>\n",
       "      <td>Utah</td>\n",
       "      <td>Kane County</td>\n",
       "      <td>49025</td>\n",
       "      <td>2020</td>\n",
       "      <td>563.0</td>\n",
       "      <td>9.5</td>\n",
       "      <td>0.061</td>\n",
       "      <td>0.061</td>\n",
       "      <td>0.0</td>\n",
       "      <td>5926.315789</td>\n",
       "    </tr>\n",
       "    <tr>\n",
       "      <th>281091</th>\n",
       "      <td>Utah</td>\n",
       "      <td>Davis County</td>\n",
       "      <td>49011</td>\n",
       "      <td>2020</td>\n",
       "      <td>19976.0</td>\n",
       "      <td>8.4</td>\n",
       "      <td>0.061</td>\n",
       "      <td>0.061</td>\n",
       "      <td>0.0</td>\n",
       "      <td>237809.534609</td>\n",
       "    </tr>\n",
       "    <tr>\n",
       "      <th>281193</th>\n",
       "      <td>Utah</td>\n",
       "      <td>Iron County</td>\n",
       "      <td>49021</td>\n",
       "      <td>2020</td>\n",
       "      <td>2782.0</td>\n",
       "      <td>7.2</td>\n",
       "      <td>0.061</td>\n",
       "      <td>0.061</td>\n",
       "      <td>0.0</td>\n",
       "      <td>38638.889912</td>\n",
       "    </tr>\n",
       "    <tr>\n",
       "      <th>281295</th>\n",
       "      <td>Utah</td>\n",
       "      <td>Carbon County</td>\n",
       "      <td>49007</td>\n",
       "      <td>2020</td>\n",
       "      <td>1521.0</td>\n",
       "      <td>10.3</td>\n",
       "      <td>0.061</td>\n",
       "      <td>0.061</td>\n",
       "      <td>0.0</td>\n",
       "      <td>14766.990018</td>\n",
       "    </tr>\n",
       "    <tr>\n",
       "      <th>281397</th>\n",
       "      <td>Utah</td>\n",
       "      <td>Beaver County</td>\n",
       "      <td>49001</td>\n",
       "      <td>2020</td>\n",
       "      <td>321.0</td>\n",
       "      <td>7.2</td>\n",
       "      <td>0.061</td>\n",
       "      <td>0.061</td>\n",
       "      <td>0.0</td>\n",
       "      <td>4458.333451</td>\n",
       "    </tr>\n",
       "    <tr>\n",
       "      <th>281499</th>\n",
       "      <td>Utah</td>\n",
       "      <td>Box Elder County</td>\n",
       "      <td>49003</td>\n",
       "      <td>2020</td>\n",
       "      <td>3297.0</td>\n",
       "      <td>8.7</td>\n",
       "      <td>0.061</td>\n",
       "      <td>0.061</td>\n",
       "      <td>0.0</td>\n",
       "      <td>37896.552555</td>\n",
       "    </tr>\n",
       "    <tr>\n",
       "      <th>281601</th>\n",
       "      <td>Utah</td>\n",
       "      <td>Cache County</td>\n",
       "      <td>49005</td>\n",
       "      <td>2020</td>\n",
       "      <td>6410.0</td>\n",
       "      <td>7.5</td>\n",
       "      <td>0.061</td>\n",
       "      <td>0.061</td>\n",
       "      <td>0.0</td>\n",
       "      <td>85466.666667</td>\n",
       "    </tr>\n",
       "    <tr>\n",
       "      <th>281673</th>\n",
       "      <td>Utah</td>\n",
       "      <td>Daggett County</td>\n",
       "      <td>49009</td>\n",
       "      <td>2020</td>\n",
       "      <td>78.0</td>\n",
       "      <td>10.1</td>\n",
       "      <td>0.061</td>\n",
       "      <td>0.061</td>\n",
       "      <td>0.0</td>\n",
       "      <td>772.277199</td>\n",
       "    </tr>\n",
       "    <tr>\n",
       "      <th>281773</th>\n",
       "      <td>Utah</td>\n",
       "      <td>Duchesne County</td>\n",
       "      <td>49013</td>\n",
       "      <td>2020</td>\n",
       "      <td>1046.0</td>\n",
       "      <td>8.2</td>\n",
       "      <td>0.061</td>\n",
       "      <td>0.061</td>\n",
       "      <td>0.0</td>\n",
       "      <td>12756.097858</td>\n",
       "    </tr>\n",
       "    <tr>\n",
       "      <th>281875</th>\n",
       "      <td>Utah</td>\n",
       "      <td>Emery County</td>\n",
       "      <td>49015</td>\n",
       "      <td>2020</td>\n",
       "      <td>804.0</td>\n",
       "      <td>11.4</td>\n",
       "      <td>0.061</td>\n",
       "      <td>0.061</td>\n",
       "      <td>0.0</td>\n",
       "      <td>7052.631815</td>\n",
       "    </tr>\n",
       "    <tr>\n",
       "      <th>281977</th>\n",
       "      <td>Utah</td>\n",
       "      <td>Juab County</td>\n",
       "      <td>49023</td>\n",
       "      <td>2020</td>\n",
       "      <td>702.0</td>\n",
       "      <td>9.1</td>\n",
       "      <td>0.061</td>\n",
       "      <td>0.061</td>\n",
       "      <td>0.0</td>\n",
       "      <td>7714.285391</td>\n",
       "    </tr>\n",
       "    <tr>\n",
       "      <th>282079</th>\n",
       "      <td>Utah</td>\n",
       "      <td>Millard County</td>\n",
       "      <td>49027</td>\n",
       "      <td>2020</td>\n",
       "      <td>1091.0</td>\n",
       "      <td>12.3</td>\n",
       "      <td>0.061</td>\n",
       "      <td>0.061</td>\n",
       "      <td>0.0</td>\n",
       "      <td>8869.918562</td>\n",
       "    </tr>\n",
       "    <tr>\n",
       "      <th>282151</th>\n",
       "      <td>Utah</td>\n",
       "      <td>Piute County</td>\n",
       "      <td>49031</td>\n",
       "      <td>2020</td>\n",
       "      <td>112.0</td>\n",
       "      <td>10.3</td>\n",
       "      <td>0.061</td>\n",
       "      <td>0.061</td>\n",
       "      <td>0.0</td>\n",
       "      <td>1087.378621</td>\n",
       "    </tr>\n",
       "    <tr>\n",
       "      <th>282251</th>\n",
       "      <td>Utah</td>\n",
       "      <td>Rich County</td>\n",
       "      <td>49033</td>\n",
       "      <td>2020</td>\n",
       "      <td>132.0</td>\n",
       "      <td>7.8</td>\n",
       "      <td>0.061</td>\n",
       "      <td>0.061</td>\n",
       "      <td>0.0</td>\n",
       "      <td>1692.307651</td>\n",
       "    </tr>\n",
       "    <tr>\n",
       "      <th>282353</th>\n",
       "      <td>Utah</td>\n",
       "      <td>Salt Lake County</td>\n",
       "      <td>49035</td>\n",
       "      <td>2020</td>\n",
       "      <td>68942.0</td>\n",
       "      <td>8.3</td>\n",
       "      <td>0.061</td>\n",
       "      <td>0.061</td>\n",
       "      <td>0.0</td>\n",
       "      <td>830626.486936</td>\n",
       "    </tr>\n",
       "    <tr>\n",
       "      <th>282455</th>\n",
       "      <td>Utah</td>\n",
       "      <td>Sanpete County</td>\n",
       "      <td>49039</td>\n",
       "      <td>2020</td>\n",
       "      <td>1846.0</td>\n",
       "      <td>8.3</td>\n",
       "      <td>0.061</td>\n",
       "      <td>0.061</td>\n",
       "      <td>0.0</td>\n",
       "      <td>22240.963344</td>\n",
       "    </tr>\n",
       "    <tr>\n",
       "      <th>282557</th>\n",
       "      <td>Utah</td>\n",
       "      <td>Tooele County</td>\n",
       "      <td>49045</td>\n",
       "      <td>2020</td>\n",
       "      <td>4607.0</td>\n",
       "      <td>9.4</td>\n",
       "      <td>0.061</td>\n",
       "      <td>0.061</td>\n",
       "      <td>0.0</td>\n",
       "      <td>49010.640287</td>\n",
       "    </tr>\n",
       "    <tr>\n",
       "      <th>282659</th>\n",
       "      <td>Utah</td>\n",
       "      <td>Uintah County</td>\n",
       "      <td>49047</td>\n",
       "      <td>2020</td>\n",
       "      <td>2496.0</td>\n",
       "      <td>10.6</td>\n",
       "      <td>0.061</td>\n",
       "      <td>0.061</td>\n",
       "      <td>0.0</td>\n",
       "      <td>23547.168964</td>\n",
       "    </tr>\n",
       "    <tr>\n",
       "      <th>282761</th>\n",
       "      <td>Utah</td>\n",
       "      <td>Utah County</td>\n",
       "      <td>49049</td>\n",
       "      <td>2020</td>\n",
       "      <td>25579.0</td>\n",
       "      <td>6.2</td>\n",
       "      <td>0.061</td>\n",
       "      <td>0.061</td>\n",
       "      <td>0.0</td>\n",
       "      <td>412564.528821</td>\n",
       "    </tr>\n",
       "    <tr>\n",
       "      <th>282863</th>\n",
       "      <td>Utah</td>\n",
       "      <td>Wasatch County</td>\n",
       "      <td>49051</td>\n",
       "      <td>2020</td>\n",
       "      <td>1487.0</td>\n",
       "      <td>6.3</td>\n",
       "      <td>0.061</td>\n",
       "      <td>0.061</td>\n",
       "      <td>0.0</td>\n",
       "      <td>23603.173889</td>\n",
       "    </tr>\n",
       "    <tr>\n",
       "      <th>282965</th>\n",
       "      <td>Utah</td>\n",
       "      <td>Weber County</td>\n",
       "      <td>49057</td>\n",
       "      <td>2020</td>\n",
       "      <td>16594.0</td>\n",
       "      <td>9.0</td>\n",
       "      <td>0.061</td>\n",
       "      <td>0.061</td>\n",
       "      <td>0.0</td>\n",
       "      <td>184377.777778</td>\n",
       "    </tr>\n",
       "  </tbody>\n",
       "</table>\n",
       "</div>"
      ],
      "text/plain": [
       "       State             County CountyFIPS  Year  Total Absolute  \\\n",
       "280173  Utah      Morgan County      49029  2020           508.0   \n",
       "280275  Utah  Washington County      49053  2020         11558.0   \n",
       "280377  Utah      Sevier County      49041  2020          1424.0   \n",
       "280479  Utah    Garfield County      49017  2020           373.0   \n",
       "280581  Utah       Grand County      49019  2020           585.0   \n",
       "280683  Utah    San Juan County      49037  2020          1305.0   \n",
       "280785  Utah      Summit County      49043  2020          1886.0   \n",
       "280887  Utah       Wayne County      49055  2020           195.0   \n",
       "280989  Utah        Kane County      49025  2020           563.0   \n",
       "281091  Utah       Davis County      49011  2020         19976.0   \n",
       "281193  Utah        Iron County      49021  2020          2782.0   \n",
       "281295  Utah      Carbon County      49007  2020          1521.0   \n",
       "281397  Utah      Beaver County      49001  2020           321.0   \n",
       "281499  Utah   Box Elder County      49003  2020          3297.0   \n",
       "281601  Utah       Cache County      49005  2020          6410.0   \n",
       "281673  Utah     Daggett County      49009  2020            78.0   \n",
       "281773  Utah    Duchesne County      49013  2020          1046.0   \n",
       "281875  Utah       Emery County      49015  2020           804.0   \n",
       "281977  Utah        Juab County      49023  2020           702.0   \n",
       "282079  Utah     Millard County      49027  2020          1091.0   \n",
       "282151  Utah       Piute County      49031  2020           112.0   \n",
       "282251  Utah        Rich County      49033  2020           132.0   \n",
       "282353  Utah   Salt Lake County      49035  2020         68942.0   \n",
       "282455  Utah     Sanpete County      49039  2020          1846.0   \n",
       "282557  Utah      Tooele County      49045  2020          4607.0   \n",
       "282659  Utah      Uintah County      49047  2020          2496.0   \n",
       "282761  Utah        Utah County      49049  2020         25579.0   \n",
       "282863  Utah     Wasatch County      49051  2020          1487.0   \n",
       "282965  Utah       Weber County      49057  2020         16594.0   \n",
       "\n",
       "        Total Percentage  Grocery Tax  Restaurant Tax  tax_delta  \\\n",
       "280173               6.5        0.061           0.061        0.0   \n",
       "280275               8.6        0.061           0.061        0.0   \n",
       "280377               9.5        0.061           0.061        0.0   \n",
       "280479               9.8        0.061           0.061        0.0   \n",
       "280581               7.8        0.061           0.061        0.0   \n",
       "280683              12.6        0.061           0.061        0.0   \n",
       "280785               6.0        0.061           0.061        0.0   \n",
       "280887               9.4        0.061           0.061        0.0   \n",
       "280989               9.5        0.061           0.061        0.0   \n",
       "281091               8.4        0.061           0.061        0.0   \n",
       "281193               7.2        0.061           0.061        0.0   \n",
       "281295              10.3        0.061           0.061        0.0   \n",
       "281397               7.2        0.061           0.061        0.0   \n",
       "281499               8.7        0.061           0.061        0.0   \n",
       "281601               7.5        0.061           0.061        0.0   \n",
       "281673              10.1        0.061           0.061        0.0   \n",
       "281773               8.2        0.061           0.061        0.0   \n",
       "281875              11.4        0.061           0.061        0.0   \n",
       "281977               9.1        0.061           0.061        0.0   \n",
       "282079              12.3        0.061           0.061        0.0   \n",
       "282151              10.3        0.061           0.061        0.0   \n",
       "282251               7.8        0.061           0.061        0.0   \n",
       "282353               8.3        0.061           0.061        0.0   \n",
       "282455               8.3        0.061           0.061        0.0   \n",
       "282557               9.4        0.061           0.061        0.0   \n",
       "282659              10.6        0.061           0.061        0.0   \n",
       "282761               6.2        0.061           0.061        0.0   \n",
       "282863               6.3        0.061           0.061        0.0   \n",
       "282965               9.0        0.061           0.061        0.0   \n",
       "\n",
       "           Population  \n",
       "280173    7815.384615  \n",
       "280275  134395.342876  \n",
       "280377   14989.473684  \n",
       "280479    3806.122375  \n",
       "280581    7499.999817  \n",
       "280683   10357.142544  \n",
       "280785   31433.333333  \n",
       "280887    2074.468169  \n",
       "280989    5926.315789  \n",
       "281091  237809.534609  \n",
       "281193   38638.889912  \n",
       "281295   14766.990018  \n",
       "281397    4458.333451  \n",
       "281499   37896.552555  \n",
       "281601   85466.666667  \n",
       "281673     772.277199  \n",
       "281773   12756.097858  \n",
       "281875    7052.631815  \n",
       "281977    7714.285391  \n",
       "282079    8869.918562  \n",
       "282151    1087.378621  \n",
       "282251    1692.307651  \n",
       "282353  830626.486936  \n",
       "282455   22240.963344  \n",
       "282557   49010.640287  \n",
       "282659   23547.168964  \n",
       "282761  412564.528821  \n",
       "282863   23603.173889  \n",
       "282965  184377.777778  "
      ]
     },
     "execution_count": 85,
     "metadata": {},
     "output_type": "execute_result"
    }
   ],
   "source": [
    "utah_2020"
   ]
  },
  {
   "cell_type": "code",
   "execution_count": 75,
   "id": "08500b48-04c1-43cb-9e7e-509d024362ee",
   "metadata": {},
   "outputs": [
    {
     "data": {
      "text/plain": [
       "2223250.187529106"
      ]
     },
     "execution_count": 75,
     "metadata": {},
     "output_type": "execute_result"
    }
   ],
   "source": [
    "utah_2020['Population'].sum()"
   ]
  },
  {
   "cell_type": "code",
   "execution_count": null,
   "id": "362f6f84-7211-4772-8f14-35c0a0f76fd4",
   "metadata": {},
   "outputs": [],
   "source": []
  },
  {
   "cell_type": "code",
   "execution_count": 4,
   "id": "7d7909e0-7e4b-4733-9197-8fd791d71647",
   "metadata": {},
   "outputs": [
    {
     "data": {
      "text/plain": [
       "50"
      ]
     },
     "execution_count": 4,
     "metadata": {},
     "output_type": "execute_result"
    }
   ],
   "source": [
    "len(df_diab_total_pivot['State'].unique())"
   ]
  },
  {
   "cell_type": "code",
   "execution_count": 5,
   "id": "6d9466b6-7a30-4264-87ae-52d81df708a4",
   "metadata": {},
   "outputs": [],
   "source": [
    "tax_df=df_diab_total_pivot[['CountyFIPS','tax_delta']]"
   ]
  },
  {
   "cell_type": "code",
   "execution_count": 6,
   "id": "fe2f726f-9cfe-4f26-aa63-ca96e7414b62",
   "metadata": {
    "scrolled": true
   },
   "outputs": [
    {
     "data": {
      "text/plain": [
       "0.09"
      ]
     },
     "execution_count": 6,
     "metadata": {},
     "output_type": "execute_result"
    }
   ],
   "source": [
    "max(tax_df['tax_delta'])"
   ]
  },
  {
   "cell_type": "code",
   "execution_count": 7,
   "id": "77310b6e-1d4f-4d60-a225-aa503b3f8b34",
   "metadata": {},
   "outputs": [],
   "source": [
    "year=set(df_diab_total_pivot['Year'])"
   ]
  },
  {
   "cell_type": "code",
   "execution_count": 30,
   "id": "e376c930-5682-4d0e-bcdd-413cc8d49909",
   "metadata": {},
   "outputs": [],
   "source": [
    "#df_diab_total_pivot"
   ]
  },
  {
   "cell_type": "code",
   "execution_count": 33,
   "id": "01da28c0-bf15-4f0a-9a8d-b646122b7318",
   "metadata": {},
   "outputs": [],
   "source": [
    "#fips_string = df_diab_total_pivot['CountyFIPS'].str.zfill(5)\n",
    "df_diab_total_pivot['CountyFIPS'] = df_diab_total_pivot['CountyFIPS'].apply(lambda x: str(x).zfill(5))\n"
   ]
  },
  {
   "cell_type": "code",
   "execution_count": 34,
   "id": "1af810f8-f413-4db5-9c74-fc1f48539396",
   "metadata": {},
   "outputs": [
    {
     "data": {
      "text/html": [
       "<div>\n",
       "<style scoped>\n",
       "    .dataframe tbody tr th:only-of-type {\n",
       "        vertical-align: middle;\n",
       "    }\n",
       "\n",
       "    .dataframe tbody tr th {\n",
       "        vertical-align: top;\n",
       "    }\n",
       "\n",
       "    .dataframe thead th {\n",
       "        text-align: right;\n",
       "    }\n",
       "</style>\n",
       "<table border=\"1\" class=\"dataframe\">\n",
       "  <thead>\n",
       "    <tr style=\"text-align: right;\">\n",
       "      <th></th>\n",
       "      <th>State</th>\n",
       "      <th>County</th>\n",
       "      <th>CountyFIPS</th>\n",
       "      <th>Year</th>\n",
       "      <th>Total Absolute</th>\n",
       "      <th>Total Percentage</th>\n",
       "      <th>Grocery Tax</th>\n",
       "      <th>Restaurant Tax</th>\n",
       "      <th>tax_delta</th>\n",
       "      <th>Population</th>\n",
       "    </tr>\n",
       "  </thead>\n",
       "  <tbody>\n",
       "    <tr>\n",
       "      <th>0</th>\n",
       "      <td>Alabama</td>\n",
       "      <td>Autauga County</td>\n",
       "      <td>01001</td>\n",
       "      <td>2004</td>\n",
       "      <td>2470.0</td>\n",
       "      <td>7.5</td>\n",
       "      <td>0.04</td>\n",
       "      <td>0.04</td>\n",
       "      <td>0.00</td>\n",
       "      <td>32933.333333</td>\n",
       "    </tr>\n",
       "    <tr>\n",
       "      <th>6</th>\n",
       "      <td>Alabama</td>\n",
       "      <td>Autauga County</td>\n",
       "      <td>01001</td>\n",
       "      <td>2005</td>\n",
       "      <td>3010.0</td>\n",
       "      <td>8.9</td>\n",
       "      <td>0.04</td>\n",
       "      <td>0.04</td>\n",
       "      <td>0.00</td>\n",
       "      <td>33820.226169</td>\n",
       "    </tr>\n",
       "    <tr>\n",
       "      <th>12</th>\n",
       "      <td>Alabama</td>\n",
       "      <td>Autauga County</td>\n",
       "      <td>01001</td>\n",
       "      <td>2006</td>\n",
       "      <td>3482.0</td>\n",
       "      <td>10.0</td>\n",
       "      <td>0.04</td>\n",
       "      <td>0.04</td>\n",
       "      <td>0.00</td>\n",
       "      <td>34820.000000</td>\n",
       "    </tr>\n",
       "    <tr>\n",
       "      <th>18</th>\n",
       "      <td>Alabama</td>\n",
       "      <td>Autauga County</td>\n",
       "      <td>01001</td>\n",
       "      <td>2007</td>\n",
       "      <td>3332.0</td>\n",
       "      <td>9.4</td>\n",
       "      <td>0.04</td>\n",
       "      <td>0.04</td>\n",
       "      <td>0.00</td>\n",
       "      <td>35446.809949</td>\n",
       "    </tr>\n",
       "    <tr>\n",
       "      <th>24</th>\n",
       "      <td>Alabama</td>\n",
       "      <td>Autauga County</td>\n",
       "      <td>01001</td>\n",
       "      <td>2008</td>\n",
       "      <td>3563.0</td>\n",
       "      <td>9.9</td>\n",
       "      <td>0.04</td>\n",
       "      <td>0.04</td>\n",
       "      <td>0.00</td>\n",
       "      <td>35989.900377</td>\n",
       "    </tr>\n",
       "    <tr>\n",
       "      <th>...</th>\n",
       "      <td>...</td>\n",
       "      <td>...</td>\n",
       "      <td>...</td>\n",
       "      <td>...</td>\n",
       "      <td>...</td>\n",
       "      <td>...</td>\n",
       "      <td>...</td>\n",
       "      <td>...</td>\n",
       "      <td>...</td>\n",
       "      <td>...</td>\n",
       "    </tr>\n",
       "    <tr>\n",
       "      <th>317255</th>\n",
       "      <td>Wyoming</td>\n",
       "      <td>Weston County</td>\n",
       "      <td>56045</td>\n",
       "      <td>2016</td>\n",
       "      <td>464.0</td>\n",
       "      <td>8.5</td>\n",
       "      <td>0.00</td>\n",
       "      <td>0.04</td>\n",
       "      <td>0.04</td>\n",
       "      <td>5458.823529</td>\n",
       "    </tr>\n",
       "    <tr>\n",
       "      <th>317261</th>\n",
       "      <td>Wyoming</td>\n",
       "      <td>Weston County</td>\n",
       "      <td>56045</td>\n",
       "      <td>2017</td>\n",
       "      <td>483.0</td>\n",
       "      <td>8.9</td>\n",
       "      <td>0.00</td>\n",
       "      <td>0.04</td>\n",
       "      <td>0.04</td>\n",
       "      <td>5426.966525</td>\n",
       "    </tr>\n",
       "    <tr>\n",
       "      <th>317267</th>\n",
       "      <td>Wyoming</td>\n",
       "      <td>Weston County</td>\n",
       "      <td>56045</td>\n",
       "      <td>2018</td>\n",
       "      <td>515.0</td>\n",
       "      <td>9.5</td>\n",
       "      <td>0.00</td>\n",
       "      <td>0.04</td>\n",
       "      <td>0.04</td>\n",
       "      <td>5421.052632</td>\n",
       "    </tr>\n",
       "    <tr>\n",
       "      <th>317273</th>\n",
       "      <td>Wyoming</td>\n",
       "      <td>Weston County</td>\n",
       "      <td>56045</td>\n",
       "      <td>2019</td>\n",
       "      <td>545.0</td>\n",
       "      <td>10.1</td>\n",
       "      <td>0.00</td>\n",
       "      <td>0.04</td>\n",
       "      <td>0.04</td>\n",
       "      <td>5396.039400</td>\n",
       "    </tr>\n",
       "    <tr>\n",
       "      <th>317279</th>\n",
       "      <td>Wyoming</td>\n",
       "      <td>Weston County</td>\n",
       "      <td>56045</td>\n",
       "      <td>2020</td>\n",
       "      <td>461.0</td>\n",
       "      <td>8.8</td>\n",
       "      <td>0.00</td>\n",
       "      <td>0.04</td>\n",
       "      <td>0.04</td>\n",
       "      <td>5238.636250</td>\n",
       "    </tr>\n",
       "  </tbody>\n",
       "</table>\n",
       "<p>53318 rows × 10 columns</p>\n",
       "</div>"
      ],
      "text/plain": [
       "          State          County CountyFIPS  Year  Total Absolute  \\\n",
       "0       Alabama  Autauga County      01001  2004          2470.0   \n",
       "6       Alabama  Autauga County      01001  2005          3010.0   \n",
       "12      Alabama  Autauga County      01001  2006          3482.0   \n",
       "18      Alabama  Autauga County      01001  2007          3332.0   \n",
       "24      Alabama  Autauga County      01001  2008          3563.0   \n",
       "...         ...             ...        ...   ...             ...   \n",
       "317255  Wyoming   Weston County      56045  2016           464.0   \n",
       "317261  Wyoming   Weston County      56045  2017           483.0   \n",
       "317267  Wyoming   Weston County      56045  2018           515.0   \n",
       "317273  Wyoming   Weston County      56045  2019           545.0   \n",
       "317279  Wyoming   Weston County      56045  2020           461.0   \n",
       "\n",
       "        Total Percentage  Grocery Tax  Restaurant Tax  tax_delta    Population  \n",
       "0                    7.5         0.04            0.04       0.00  32933.333333  \n",
       "6                    8.9         0.04            0.04       0.00  33820.226169  \n",
       "12                  10.0         0.04            0.04       0.00  34820.000000  \n",
       "18                   9.4         0.04            0.04       0.00  35446.809949  \n",
       "24                   9.9         0.04            0.04       0.00  35989.900377  \n",
       "...                  ...          ...             ...        ...           ...  \n",
       "317255               8.5         0.00            0.04       0.04   5458.823529  \n",
       "317261               8.9         0.00            0.04       0.04   5426.966525  \n",
       "317267               9.5         0.00            0.04       0.04   5421.052632  \n",
       "317273              10.1         0.00            0.04       0.04   5396.039400  \n",
       "317279               8.8         0.00            0.04       0.04   5238.636250  \n",
       "\n",
       "[53318 rows x 10 columns]"
      ]
     },
     "execution_count": 34,
     "metadata": {},
     "output_type": "execute_result"
    }
   ],
   "source": [
    "df_diab_total_pivot"
   ]
  },
  {
   "cell_type": "code",
   "execution_count": 35,
   "id": "6588af5f-87b5-4041-a972-9655ce0904f7",
   "metadata": {},
   "outputs": [],
   "source": [
    "year=list(year)\n",
    "year.sort()"
   ]
  },
  {
   "cell_type": "code",
   "execution_count": 36,
   "id": "761a4738-451a-4f4b-8452-41e3a32979d2",
   "metadata": {},
   "outputs": [
    {
     "data": {
      "text/html": [
       "<div>\n",
       "<style scoped>\n",
       "    .dataframe tbody tr th:only-of-type {\n",
       "        vertical-align: middle;\n",
       "    }\n",
       "\n",
       "    .dataframe tbody tr th {\n",
       "        vertical-align: top;\n",
       "    }\n",
       "\n",
       "    .dataframe thead th {\n",
       "        text-align: right;\n",
       "    }\n",
       "</style>\n",
       "<table border=\"1\" class=\"dataframe\">\n",
       "  <thead>\n",
       "    <tr style=\"text-align: right;\">\n",
       "      <th></th>\n",
       "      <th>State</th>\n",
       "      <th>County</th>\n",
       "      <th>CountyFIPS</th>\n",
       "      <th>Year</th>\n",
       "      <th>Total Absolute</th>\n",
       "      <th>Total Percentage</th>\n",
       "      <th>Grocery Tax</th>\n",
       "      <th>Restaurant Tax</th>\n",
       "      <th>tax_delta</th>\n",
       "      <th>Population</th>\n",
       "    </tr>\n",
       "  </thead>\n",
       "  <tbody>\n",
       "    <tr>\n",
       "      <th>24704</th>\n",
       "      <td>Colorado</td>\n",
       "      <td>Jackson County</td>\n",
       "      <td>08057</td>\n",
       "      <td>2004</td>\n",
       "      <td>85.0</td>\n",
       "      <td>7.8</td>\n",
       "      <td>0.0</td>\n",
       "      <td>0.029</td>\n",
       "      <td>0.029</td>\n",
       "      <td>1089.743563</td>\n",
       "    </tr>\n",
       "    <tr>\n",
       "      <th>24708</th>\n",
       "      <td>Colorado</td>\n",
       "      <td>Jackson County</td>\n",
       "      <td>08057</td>\n",
       "      <td>2005</td>\n",
       "      <td>83.0</td>\n",
       "      <td>7.6</td>\n",
       "      <td>0.0</td>\n",
       "      <td>0.029</td>\n",
       "      <td>0.029</td>\n",
       "      <td>1092.105277</td>\n",
       "    </tr>\n",
       "    <tr>\n",
       "      <th>24712</th>\n",
       "      <td>Colorado</td>\n",
       "      <td>Jackson County</td>\n",
       "      <td>08057</td>\n",
       "      <td>2006</td>\n",
       "      <td>65.0</td>\n",
       "      <td>6.1</td>\n",
       "      <td>0.0</td>\n",
       "      <td>0.029</td>\n",
       "      <td>0.029</td>\n",
       "      <td>1065.573787</td>\n",
       "    </tr>\n",
       "    <tr>\n",
       "      <th>24716</th>\n",
       "      <td>Colorado</td>\n",
       "      <td>Jackson County</td>\n",
       "      <td>08057</td>\n",
       "      <td>2007</td>\n",
       "      <td>68.0</td>\n",
       "      <td>6.4</td>\n",
       "      <td>0.0</td>\n",
       "      <td>0.029</td>\n",
       "      <td>0.029</td>\n",
       "      <td>1062.499984</td>\n",
       "    </tr>\n",
       "    <tr>\n",
       "      <th>24720</th>\n",
       "      <td>Colorado</td>\n",
       "      <td>Jackson County</td>\n",
       "      <td>08057</td>\n",
       "      <td>2008</td>\n",
       "      <td>68.0</td>\n",
       "      <td>6.5</td>\n",
       "      <td>0.0</td>\n",
       "      <td>0.029</td>\n",
       "      <td>0.029</td>\n",
       "      <td>1046.153846</td>\n",
       "    </tr>\n",
       "    <tr>\n",
       "      <th>...</th>\n",
       "      <td>...</td>\n",
       "      <td>...</td>\n",
       "      <td>...</td>\n",
       "      <td>...</td>\n",
       "      <td>...</td>\n",
       "      <td>...</td>\n",
       "      <td>...</td>\n",
       "      <td>...</td>\n",
       "      <td>...</td>\n",
       "      <td>...</td>\n",
       "    </tr>\n",
       "    <tr>\n",
       "      <th>30993</th>\n",
       "      <td>Colorado</td>\n",
       "      <td>Weld County</td>\n",
       "      <td>08123</td>\n",
       "      <td>2016</td>\n",
       "      <td>15014.0</td>\n",
       "      <td>7.2</td>\n",
       "      <td>0.0</td>\n",
       "      <td>0.029</td>\n",
       "      <td>0.029</td>\n",
       "      <td>208527.783302</td>\n",
       "    </tr>\n",
       "    <tr>\n",
       "      <th>30999</th>\n",
       "      <td>Colorado</td>\n",
       "      <td>Weld County</td>\n",
       "      <td>08123</td>\n",
       "      <td>2017</td>\n",
       "      <td>15383.0</td>\n",
       "      <td>7.1</td>\n",
       "      <td>0.0</td>\n",
       "      <td>0.029</td>\n",
       "      <td>0.029</td>\n",
       "      <td>216661.974741</td>\n",
       "    </tr>\n",
       "    <tr>\n",
       "      <th>31005</th>\n",
       "      <td>Colorado</td>\n",
       "      <td>Weld County</td>\n",
       "      <td>08123</td>\n",
       "      <td>2018</td>\n",
       "      <td>17606.0</td>\n",
       "      <td>8.2</td>\n",
       "      <td>0.0</td>\n",
       "      <td>0.029</td>\n",
       "      <td>0.029</td>\n",
       "      <td>214707.322067</td>\n",
       "    </tr>\n",
       "    <tr>\n",
       "      <th>31011</th>\n",
       "      <td>Colorado</td>\n",
       "      <td>Weld County</td>\n",
       "      <td>08123</td>\n",
       "      <td>2019</td>\n",
       "      <td>18461.0</td>\n",
       "      <td>8.0</td>\n",
       "      <td>0.0</td>\n",
       "      <td>0.029</td>\n",
       "      <td>0.029</td>\n",
       "      <td>230762.500000</td>\n",
       "    </tr>\n",
       "    <tr>\n",
       "      <th>31017</th>\n",
       "      <td>Colorado</td>\n",
       "      <td>Weld County</td>\n",
       "      <td>08123</td>\n",
       "      <td>2020</td>\n",
       "      <td>20035.0</td>\n",
       "      <td>8.4</td>\n",
       "      <td>0.0</td>\n",
       "      <td>0.029</td>\n",
       "      <td>0.029</td>\n",
       "      <td>238511.915593</td>\n",
       "    </tr>\n",
       "  </tbody>\n",
       "</table>\n",
       "<p>1088 rows × 10 columns</p>\n",
       "</div>"
      ],
      "text/plain": [
       "          State          County CountyFIPS  Year  Total Absolute  \\\n",
       "24704  Colorado  Jackson County      08057  2004            85.0   \n",
       "24708  Colorado  Jackson County      08057  2005            83.0   \n",
       "24712  Colorado  Jackson County      08057  2006            65.0   \n",
       "24716  Colorado  Jackson County      08057  2007            68.0   \n",
       "24720  Colorado  Jackson County      08057  2008            68.0   \n",
       "...         ...             ...        ...   ...             ...   \n",
       "30993  Colorado     Weld County      08123  2016         15014.0   \n",
       "30999  Colorado     Weld County      08123  2017         15383.0   \n",
       "31005  Colorado     Weld County      08123  2018         17606.0   \n",
       "31011  Colorado     Weld County      08123  2019         18461.0   \n",
       "31017  Colorado     Weld County      08123  2020         20035.0   \n",
       "\n",
       "       Total Percentage  Grocery Tax  Restaurant Tax  tax_delta     Population  \n",
       "24704               7.8          0.0           0.029      0.029    1089.743563  \n",
       "24708               7.6          0.0           0.029      0.029    1092.105277  \n",
       "24712               6.1          0.0           0.029      0.029    1065.573787  \n",
       "24716               6.4          0.0           0.029      0.029    1062.499984  \n",
       "24720               6.5          0.0           0.029      0.029    1046.153846  \n",
       "...                 ...          ...             ...        ...            ...  \n",
       "30993               7.2          0.0           0.029      0.029  208527.783302  \n",
       "30999               7.1          0.0           0.029      0.029  216661.974741  \n",
       "31005               8.2          0.0           0.029      0.029  214707.322067  \n",
       "31011               8.0          0.0           0.029      0.029  230762.500000  \n",
       "31017               8.4          0.0           0.029      0.029  238511.915593  \n",
       "\n",
       "[1088 rows x 10 columns]"
      ]
     },
     "execution_count": 36,
     "metadata": {},
     "output_type": "execute_result"
    }
   ],
   "source": [
    "df_diab_total_pivot[df_diab_total_pivot['State']=='Colorado']"
   ]
  },
  {
   "cell_type": "code",
   "execution_count": null,
   "id": "a25b8b0a-5695-41f3-a01c-216cc4f15643",
   "metadata": {
    "scrolled": true
   },
   "outputs": [],
   "source": [
    "fig=px.choropleth()\n",
    "for y in year:\n",
    "    tax_df=df_diab_total_pivot[df_diab_total_pivot['Year']==y][['CountyFIPS','tax_delta','Year']]\n",
    "    fig = px.choropleth(tax_df, geojson=counties, locations='CountyFIPS', color='tax_delta',\n",
    "                           color_continuous_scale=\"Turbo\",\n",
    "                           range_color=(0.0, 0.09),\n",
    "                           scope=\"usa\",\n",
    "                           labels={'tax_delta':'tax delta','Year':y})\n",
    "    fig.update_layout(title=dict(\n",
    "        text=\"year \"+str(y),\n",
    "        xanchor='center',\n",
    "        x=0.5,\n",
    "        yref='paper',\n",
    "        yanchor='bottom',\n",
    "        y=0.9,\n",
    "        pad={'b': 0}\n",
    "    ),  margin={\"r\":0,\"t\":0,\"l\":0,\"b\":0})\n",
    "    fig.update_layout(geo = dict(showlakes=False))\n",
    "    fig.show()\n",
    "    fig.write_image(\"fig\"+str(y)+\".png\")\n",
    "    "
   ]
  },
  {
   "cell_type": "code",
   "execution_count": null,
   "id": "42c2fef8-3251-421a-ac75-73e8557dc5fa",
   "metadata": {},
   "outputs": [],
   "source": [
    "from PIL import ImageSequence\n",
    "from PIL import Image\n",
    "# from gif import gifmaker\n",
    "sequence = []\n",
    "\n",
    "\n"
   ]
  },
  {
   "cell_type": "code",
   "execution_count": 45,
   "id": "f2e5dd90-2e98-40d4-9f04-55277ace62c4",
   "metadata": {},
   "outputs": [
    {
     "ename": "SyntaxError",
     "evalue": "invalid syntax (94539834.py, line 1)",
     "output_type": "error",
     "traceback": [
      "\u001b[1;36m  Cell \u001b[1;32mIn[45], line 1\u001b[1;36m\u001b[0m\n\u001b[1;33m    im = Image.open(....)\u001b[0m\n\u001b[1;37m                        ^\u001b[0m\n\u001b[1;31mSyntaxError\u001b[0m\u001b[1;31m:\u001b[0m invalid syntax\n"
     ]
    }
   ],
   "source": [
    "im = Image.open(....)\n",
    "\n",
    "# im is your original image\n",
    "frames = [frame.copy() for frame in ImageSequence.Iterator(im)]\n",
    "\n",
    "# write GIF animation\n",
    "fp = open(\"out.gif\", \"wb\")\n",
    "gifmaker.makedelta(fp, frames)\n",
    "fp.close()"
   ]
  },
  {
   "cell_type": "code",
   "execution_count": 47,
   "id": "b8d9bce0-8d7c-4175-9aca-accc1ac40465",
   "metadata": {},
   "outputs": [
    {
     "data": {
      "text/plain": [
       "0.0"
      ]
     },
     "execution_count": 47,
     "metadata": {},
     "output_type": "execute_result"
    }
   ],
   "source": [
    "min(df_diab_total_pivot['tax_delta'])"
   ]
  },
  {
   "cell_type": "code",
   "execution_count": null,
   "id": "5e8cfd08-6a01-4c19-a788-77046e7fc925",
   "metadata": {},
   "outputs": [],
   "source": []
  },
  {
   "cell_type": "code",
   "execution_count": 46,
   "id": "b449fb6e-a9a6-48a7-aa3a-155e9d0d05c6",
   "metadata": {},
   "outputs": [],
   "source": [
    "import time\n",
    "import plotly.graph_objects as go\n",
    "\n",
    "data = [1,3,2,4,3,3,2,3]"
   ]
  },
  {
   "cell_type": "code",
   "execution_count": 47,
   "id": "c551cdef-7d51-4efa-b7b4-27b06f1af983",
   "metadata": {},
   "outputs": [
    {
     "ename": "AttributeError",
     "evalue": "type object 'DOMWidget' has no attribute '_ipython_display_'",
     "output_type": "error",
     "traceback": [
      "\u001b[1;31m---------------------------------------------------------------------------\u001b[0m",
      "\u001b[1;31mAttributeError\u001b[0m                            Traceback (most recent call last)",
      "File \u001b[1;32m~\\miniconda3\\envs\\tax\\Lib\\site-packages\\IPython\\core\\formatters.py:922\u001b[0m, in \u001b[0;36mIPythonDisplayFormatter.__call__\u001b[1;34m(self, obj)\u001b[0m\n\u001b[0;32m    920\u001b[0m method \u001b[38;5;241m=\u001b[39m get_real_method(obj, \u001b[38;5;28mself\u001b[39m\u001b[38;5;241m.\u001b[39mprint_method)\n\u001b[0;32m    921\u001b[0m \u001b[38;5;28;01mif\u001b[39;00m method \u001b[38;5;129;01mis\u001b[39;00m \u001b[38;5;129;01mnot\u001b[39;00m \u001b[38;5;28;01mNone\u001b[39;00m:\n\u001b[1;32m--> 922\u001b[0m     method()\n\u001b[0;32m    923\u001b[0m     \u001b[38;5;28;01mreturn\u001b[39;00m \u001b[38;5;28;01mTrue\u001b[39;00m\n",
      "File \u001b[1;32m~\\miniconda3\\envs\\tax\\Lib\\site-packages\\plotly\\basewidget.py:741\u001b[0m, in \u001b[0;36mBaseFigureWidget._ipython_display_\u001b[1;34m(self)\u001b[0m\n\u001b[0;32m    737\u001b[0m \u001b[38;5;250m\u001b[39m\u001b[38;5;124;03m\"\"\"\u001b[39;00m\n\u001b[0;32m    738\u001b[0m \u001b[38;5;124;03mHandle rich display of figures in ipython contexts\u001b[39;00m\n\u001b[0;32m    739\u001b[0m \u001b[38;5;124;03m\"\"\"\u001b[39;00m\n\u001b[0;32m    740\u001b[0m \u001b[38;5;66;03m# Override BaseFigure's display to make sure we display the widget version\u001b[39;00m\n\u001b[1;32m--> 741\u001b[0m widgets\u001b[38;5;241m.\u001b[39mDOMWidget\u001b[38;5;241m.\u001b[39m_ipython_display_(\u001b[38;5;28mself\u001b[39m)\n",
      "\u001b[1;31mAttributeError\u001b[0m: type object 'DOMWidget' has no attribute '_ipython_display_'"
     ]
    },
    {
     "data": {
      "application/vnd.plotly.v1+json": {
       "config": {
        "plotlyServerURL": "https://plot.ly"
       },
       "data": [
        {
         "type": "scatter",
         "uid": "fb38c724-9893-45a4-af2f-fdc9bbf9af83"
        }
       ],
       "layout": {
        "autosize": true,
        "template": {
         "data": {
          "bar": [
           {
            "error_x": {
             "color": "#2a3f5f"
            },
            "error_y": {
             "color": "#2a3f5f"
            },
            "marker": {
             "line": {
              "color": "#E5ECF6",
              "width": 0.5
             },
             "pattern": {
              "fillmode": "overlay",
              "size": 10,
              "solidity": 0.2
             }
            },
            "type": "bar"
           }
          ],
          "barpolar": [
           {
            "marker": {
             "line": {
              "color": "#E5ECF6",
              "width": 0.5
             },
             "pattern": {
              "fillmode": "overlay",
              "size": 10,
              "solidity": 0.2
             }
            },
            "type": "barpolar"
           }
          ],
          "carpet": [
           {
            "aaxis": {
             "endlinecolor": "#2a3f5f",
             "gridcolor": "white",
             "linecolor": "white",
             "minorgridcolor": "white",
             "startlinecolor": "#2a3f5f"
            },
            "baxis": {
             "endlinecolor": "#2a3f5f",
             "gridcolor": "white",
             "linecolor": "white",
             "minorgridcolor": "white",
             "startlinecolor": "#2a3f5f"
            },
            "type": "carpet"
           }
          ],
          "choropleth": [
           {
            "colorbar": {
             "outlinewidth": 0,
             "ticks": ""
            },
            "type": "choropleth"
           }
          ],
          "contour": [
           {
            "colorbar": {
             "outlinewidth": 0,
             "ticks": ""
            },
            "colorscale": [
             [
              0,
              "#0d0887"
             ],
             [
              0.1111111111111111,
              "#46039f"
             ],
             [
              0.2222222222222222,
              "#7201a8"
             ],
             [
              0.3333333333333333,
              "#9c179e"
             ],
             [
              0.4444444444444444,
              "#bd3786"
             ],
             [
              0.5555555555555556,
              "#d8576b"
             ],
             [
              0.6666666666666666,
              "#ed7953"
             ],
             [
              0.7777777777777778,
              "#fb9f3a"
             ],
             [
              0.8888888888888888,
              "#fdca26"
             ],
             [
              1,
              "#f0f921"
             ]
            ],
            "type": "contour"
           }
          ],
          "contourcarpet": [
           {
            "colorbar": {
             "outlinewidth": 0,
             "ticks": ""
            },
            "type": "contourcarpet"
           }
          ],
          "heatmap": [
           {
            "colorbar": {
             "outlinewidth": 0,
             "ticks": ""
            },
            "colorscale": [
             [
              0,
              "#0d0887"
             ],
             [
              0.1111111111111111,
              "#46039f"
             ],
             [
              0.2222222222222222,
              "#7201a8"
             ],
             [
              0.3333333333333333,
              "#9c179e"
             ],
             [
              0.4444444444444444,
              "#bd3786"
             ],
             [
              0.5555555555555556,
              "#d8576b"
             ],
             [
              0.6666666666666666,
              "#ed7953"
             ],
             [
              0.7777777777777778,
              "#fb9f3a"
             ],
             [
              0.8888888888888888,
              "#fdca26"
             ],
             [
              1,
              "#f0f921"
             ]
            ],
            "type": "heatmap"
           }
          ],
          "heatmapgl": [
           {
            "colorbar": {
             "outlinewidth": 0,
             "ticks": ""
            },
            "colorscale": [
             [
              0,
              "#0d0887"
             ],
             [
              0.1111111111111111,
              "#46039f"
             ],
             [
              0.2222222222222222,
              "#7201a8"
             ],
             [
              0.3333333333333333,
              "#9c179e"
             ],
             [
              0.4444444444444444,
              "#bd3786"
             ],
             [
              0.5555555555555556,
              "#d8576b"
             ],
             [
              0.6666666666666666,
              "#ed7953"
             ],
             [
              0.7777777777777778,
              "#fb9f3a"
             ],
             [
              0.8888888888888888,
              "#fdca26"
             ],
             [
              1,
              "#f0f921"
             ]
            ],
            "type": "heatmapgl"
           }
          ],
          "histogram": [
           {
            "marker": {
             "pattern": {
              "fillmode": "overlay",
              "size": 10,
              "solidity": 0.2
             }
            },
            "type": "histogram"
           }
          ],
          "histogram2d": [
           {
            "colorbar": {
             "outlinewidth": 0,
             "ticks": ""
            },
            "colorscale": [
             [
              0,
              "#0d0887"
             ],
             [
              0.1111111111111111,
              "#46039f"
             ],
             [
              0.2222222222222222,
              "#7201a8"
             ],
             [
              0.3333333333333333,
              "#9c179e"
             ],
             [
              0.4444444444444444,
              "#bd3786"
             ],
             [
              0.5555555555555556,
              "#d8576b"
             ],
             [
              0.6666666666666666,
              "#ed7953"
             ],
             [
              0.7777777777777778,
              "#fb9f3a"
             ],
             [
              0.8888888888888888,
              "#fdca26"
             ],
             [
              1,
              "#f0f921"
             ]
            ],
            "type": "histogram2d"
           }
          ],
          "histogram2dcontour": [
           {
            "colorbar": {
             "outlinewidth": 0,
             "ticks": ""
            },
            "colorscale": [
             [
              0,
              "#0d0887"
             ],
             [
              0.1111111111111111,
              "#46039f"
             ],
             [
              0.2222222222222222,
              "#7201a8"
             ],
             [
              0.3333333333333333,
              "#9c179e"
             ],
             [
              0.4444444444444444,
              "#bd3786"
             ],
             [
              0.5555555555555556,
              "#d8576b"
             ],
             [
              0.6666666666666666,
              "#ed7953"
             ],
             [
              0.7777777777777778,
              "#fb9f3a"
             ],
             [
              0.8888888888888888,
              "#fdca26"
             ],
             [
              1,
              "#f0f921"
             ]
            ],
            "type": "histogram2dcontour"
           }
          ],
          "mesh3d": [
           {
            "colorbar": {
             "outlinewidth": 0,
             "ticks": ""
            },
            "type": "mesh3d"
           }
          ],
          "parcoords": [
           {
            "line": {
             "colorbar": {
              "outlinewidth": 0,
              "ticks": ""
             }
            },
            "type": "parcoords"
           }
          ],
          "pie": [
           {
            "automargin": true,
            "type": "pie"
           }
          ],
          "scatter": [
           {
            "fillpattern": {
             "fillmode": "overlay",
             "size": 10,
             "solidity": 0.2
            },
            "type": "scatter"
           }
          ],
          "scatter3d": [
           {
            "line": {
             "colorbar": {
              "outlinewidth": 0,
              "ticks": ""
             }
            },
            "marker": {
             "colorbar": {
              "outlinewidth": 0,
              "ticks": ""
             }
            },
            "type": "scatter3d"
           }
          ],
          "scattercarpet": [
           {
            "marker": {
             "colorbar": {
              "outlinewidth": 0,
              "ticks": ""
             }
            },
            "type": "scattercarpet"
           }
          ],
          "scattergeo": [
           {
            "marker": {
             "colorbar": {
              "outlinewidth": 0,
              "ticks": ""
             }
            },
            "type": "scattergeo"
           }
          ],
          "scattergl": [
           {
            "marker": {
             "colorbar": {
              "outlinewidth": 0,
              "ticks": ""
             }
            },
            "type": "scattergl"
           }
          ],
          "scattermapbox": [
           {
            "marker": {
             "colorbar": {
              "outlinewidth": 0,
              "ticks": ""
             }
            },
            "type": "scattermapbox"
           }
          ],
          "scatterpolar": [
           {
            "marker": {
             "colorbar": {
              "outlinewidth": 0,
              "ticks": ""
             }
            },
            "type": "scatterpolar"
           }
          ],
          "scatterpolargl": [
           {
            "marker": {
             "colorbar": {
              "outlinewidth": 0,
              "ticks": ""
             }
            },
            "type": "scatterpolargl"
           }
          ],
          "scatterternary": [
           {
            "marker": {
             "colorbar": {
              "outlinewidth": 0,
              "ticks": ""
             }
            },
            "type": "scatterternary"
           }
          ],
          "surface": [
           {
            "colorbar": {
             "outlinewidth": 0,
             "ticks": ""
            },
            "colorscale": [
             [
              0,
              "#0d0887"
             ],
             [
              0.1111111111111111,
              "#46039f"
             ],
             [
              0.2222222222222222,
              "#7201a8"
             ],
             [
              0.3333333333333333,
              "#9c179e"
             ],
             [
              0.4444444444444444,
              "#bd3786"
             ],
             [
              0.5555555555555556,
              "#d8576b"
             ],
             [
              0.6666666666666666,
              "#ed7953"
             ],
             [
              0.7777777777777778,
              "#fb9f3a"
             ],
             [
              0.8888888888888888,
              "#fdca26"
             ],
             [
              1,
              "#f0f921"
             ]
            ],
            "type": "surface"
           }
          ],
          "table": [
           {
            "cells": {
             "fill": {
              "color": "#EBF0F8"
             },
             "line": {
              "color": "white"
             }
            },
            "header": {
             "fill": {
              "color": "#C8D4E3"
             },
             "line": {
              "color": "white"
             }
            },
            "type": "table"
           }
          ]
         },
         "layout": {
          "annotationdefaults": {
           "arrowcolor": "#2a3f5f",
           "arrowhead": 0,
           "arrowwidth": 1
          },
          "autotypenumbers": "strict",
          "coloraxis": {
           "colorbar": {
            "outlinewidth": 0,
            "ticks": ""
           }
          },
          "colorscale": {
           "diverging": [
            [
             0,
             "#8e0152"
            ],
            [
             0.1,
             "#c51b7d"
            ],
            [
             0.2,
             "#de77ae"
            ],
            [
             0.3,
             "#f1b6da"
            ],
            [
             0.4,
             "#fde0ef"
            ],
            [
             0.5,
             "#f7f7f7"
            ],
            [
             0.6,
             "#e6f5d0"
            ],
            [
             0.7,
             "#b8e186"
            ],
            [
             0.8,
             "#7fbc41"
            ],
            [
             0.9,
             "#4d9221"
            ],
            [
             1,
             "#276419"
            ]
           ],
           "sequential": [
            [
             0,
             "#0d0887"
            ],
            [
             0.1111111111111111,
             "#46039f"
            ],
            [
             0.2222222222222222,
             "#7201a8"
            ],
            [
             0.3333333333333333,
             "#9c179e"
            ],
            [
             0.4444444444444444,
             "#bd3786"
            ],
            [
             0.5555555555555556,
             "#d8576b"
            ],
            [
             0.6666666666666666,
             "#ed7953"
            ],
            [
             0.7777777777777778,
             "#fb9f3a"
            ],
            [
             0.8888888888888888,
             "#fdca26"
            ],
            [
             1,
             "#f0f921"
            ]
           ],
           "sequentialminus": [
            [
             0,
             "#0d0887"
            ],
            [
             0.1111111111111111,
             "#46039f"
            ],
            [
             0.2222222222222222,
             "#7201a8"
            ],
            [
             0.3333333333333333,
             "#9c179e"
            ],
            [
             0.4444444444444444,
             "#bd3786"
            ],
            [
             0.5555555555555556,
             "#d8576b"
            ],
            [
             0.6666666666666666,
             "#ed7953"
            ],
            [
             0.7777777777777778,
             "#fb9f3a"
            ],
            [
             0.8888888888888888,
             "#fdca26"
            ],
            [
             1,
             "#f0f921"
            ]
           ]
          },
          "colorway": [
           "#636efa",
           "#EF553B",
           "#00cc96",
           "#ab63fa",
           "#FFA15A",
           "#19d3f3",
           "#FF6692",
           "#B6E880",
           "#FF97FF",
           "#FECB52"
          ],
          "font": {
           "color": "#2a3f5f"
          },
          "geo": {
           "bgcolor": "white",
           "lakecolor": "white",
           "landcolor": "#E5ECF6",
           "showlakes": true,
           "showland": true,
           "subunitcolor": "white"
          },
          "hoverlabel": {
           "align": "left"
          },
          "hovermode": "closest",
          "mapbox": {
           "style": "light"
          },
          "paper_bgcolor": "white",
          "plot_bgcolor": "#E5ECF6",
          "polar": {
           "angularaxis": {
            "gridcolor": "white",
            "linecolor": "white",
            "ticks": ""
           },
           "bgcolor": "#E5ECF6",
           "radialaxis": {
            "gridcolor": "white",
            "linecolor": "white",
            "ticks": ""
           }
          },
          "scene": {
           "xaxis": {
            "backgroundcolor": "#E5ECF6",
            "gridcolor": "white",
            "gridwidth": 2,
            "linecolor": "white",
            "showbackground": true,
            "ticks": "",
            "zerolinecolor": "white"
           },
           "yaxis": {
            "backgroundcolor": "#E5ECF6",
            "gridcolor": "white",
            "gridwidth": 2,
            "linecolor": "white",
            "showbackground": true,
            "ticks": "",
            "zerolinecolor": "white"
           },
           "zaxis": {
            "backgroundcolor": "#E5ECF6",
            "gridcolor": "white",
            "gridwidth": 2,
            "linecolor": "white",
            "showbackground": true,
            "ticks": "",
            "zerolinecolor": "white"
           }
          },
          "shapedefaults": {
           "line": {
            "color": "#2a3f5f"
           }
          },
          "ternary": {
           "aaxis": {
            "gridcolor": "white",
            "linecolor": "white",
            "ticks": ""
           },
           "baxis": {
            "gridcolor": "white",
            "linecolor": "white",
            "ticks": ""
           },
           "bgcolor": "#E5ECF6",
           "caxis": {
            "gridcolor": "white",
            "linecolor": "white",
            "ticks": ""
           }
          },
          "title": {
           "x": 0.05
          },
          "xaxis": {
           "automargin": true,
           "gridcolor": "white",
           "linecolor": "white",
           "ticks": "",
           "title": {
            "standoff": 15
           },
           "zerolinecolor": "white",
           "zerolinewidth": 2
          },
          "yaxis": {
           "automargin": true,
           "gridcolor": "white",
           "linecolor": "white",
           "ticks": "",
           "title": {
            "standoff": 15
           },
           "zerolinecolor": "white",
           "zerolinewidth": 2
          }
         }
        },
        "xaxis": {
         "autorange": true,
         "range": [
          -1,
          6
         ]
        },
        "yaxis": {
         "autorange": true,
         "range": [
          -1,
          4
         ]
        }
       }
      },
      "image/png": "[encoded data removed]",
      "text/html": [
       "<div>                            <div id=\"cc830313-a678-4675-8ba0-e1ca2937c672\" class=\"plotly-graph-div\" style=\"height:525px; width:100%;\"></div>            <script type=\"text/javascript\">                require([\"plotly\"], function(Plotly) {                    window.PLOTLYENV=window.PLOTLYENV || {};                                    if (document.getElementById(\"cc830313-a678-4675-8ba0-e1ca2937c672\")) {                    Plotly.newPlot(                        \"cc830313-a678-4675-8ba0-e1ca2937c672\",                        [{\"type\":\"scatter\",\"uid\":\"fb38c724-9893-45a4-af2f-fdc9bbf9af83\"}],                        {\"template\":{\"data\":{\"barpolar\":[{\"marker\":{\"line\":{\"color\":\"#E5ECF6\",\"width\":0.5},\"pattern\":{\"fillmode\":\"overlay\",\"size\":10,\"solidity\":0.2}},\"type\":\"barpolar\"}],\"bar\":[{\"error_x\":{\"color\":\"#2a3f5f\"},\"error_y\":{\"color\":\"#2a3f5f\"},\"marker\":{\"line\":{\"color\":\"#E5ECF6\",\"width\":0.5},\"pattern\":{\"fillmode\":\"overlay\",\"size\":10,\"solidity\":0.2}},\"type\":\"bar\"}],\"carpet\":[{\"aaxis\":{\"endlinecolor\":\"#2a3f5f\",\"gridcolor\":\"white\",\"linecolor\":\"white\",\"minorgridcolor\":\"white\",\"startlinecolor\":\"#2a3f5f\"},\"baxis\":{\"endlinecolor\":\"#2a3f5f\",\"gridcolor\":\"white\",\"linecolor\":\"white\",\"minorgridcolor\":\"white\",\"startlinecolor\":\"#2a3f5f\"},\"type\":\"carpet\"}],\"choropleth\":[{\"colorbar\":{\"outlinewidth\":0,\"ticks\":\"\"},\"type\":\"choropleth\"}],\"contourcarpet\":[{\"colorbar\":{\"outlinewidth\":0,\"ticks\":\"\"},\"type\":\"contourcarpet\"}],\"contour\":[{\"colorbar\":{\"outlinewidth\":0,\"ticks\":\"\"},\"colorscale\":[[0.0,\"#0d0887\"],[0.1111111111111111,\"#46039f\"],[0.2222222222222222,\"#7201a8\"],[0.3333333333333333,\"#9c179e\"],[0.4444444444444444,\"#bd3786\"],[0.5555555555555556,\"#d8576b\"],[0.6666666666666666,\"#ed7953\"],[0.7777777777777778,\"#fb9f3a\"],[0.8888888888888888,\"#fdca26\"],[1.0,\"#f0f921\"]],\"type\":\"contour\"}],\"heatmapgl\":[{\"colorbar\":{\"outlinewidth\":0,\"ticks\":\"\"},\"colorscale\":[[0.0,\"#0d0887\"],[0.1111111111111111,\"#46039f\"],[0.2222222222222222,\"#7201a8\"],[0.3333333333333333,\"#9c179e\"],[0.4444444444444444,\"#bd3786\"],[0.5555555555555556,\"#d8576b\"],[0.6666666666666666,\"#ed7953\"],[0.7777777777777778,\"#fb9f3a\"],[0.8888888888888888,\"#fdca26\"],[1.0,\"#f0f921\"]],\"type\":\"heatmapgl\"}],\"heatmap\":[{\"colorbar\":{\"outlinewidth\":0,\"ticks\":\"\"},\"colorscale\":[[0.0,\"#0d0887\"],[0.1111111111111111,\"#46039f\"],[0.2222222222222222,\"#7201a8\"],[0.3333333333333333,\"#9c179e\"],[0.4444444444444444,\"#bd3786\"],[0.5555555555555556,\"#d8576b\"],[0.6666666666666666,\"#ed7953\"],[0.7777777777777778,\"#fb9f3a\"],[0.8888888888888888,\"#fdca26\"],[1.0,\"#f0f921\"]],\"type\":\"heatmap\"}],\"histogram2dcontour\":[{\"colorbar\":{\"outlinewidth\":0,\"ticks\":\"\"},\"colorscale\":[[0.0,\"#0d0887\"],[0.1111111111111111,\"#46039f\"],[0.2222222222222222,\"#7201a8\"],[0.3333333333333333,\"#9c179e\"],[0.4444444444444444,\"#bd3786\"],[0.5555555555555556,\"#d8576b\"],[0.6666666666666666,\"#ed7953\"],[0.7777777777777778,\"#fb9f3a\"],[0.8888888888888888,\"#fdca26\"],[1.0,\"#f0f921\"]],\"type\":\"histogram2dcontour\"}],\"histogram2d\":[{\"colorbar\":{\"outlinewidth\":0,\"ticks\":\"\"},\"colorscale\":[[0.0,\"#0d0887\"],[0.1111111111111111,\"#46039f\"],[0.2222222222222222,\"#7201a8\"],[0.3333333333333333,\"#9c179e\"],[0.4444444444444444,\"#bd3786\"],[0.5555555555555556,\"#d8576b\"],[0.6666666666666666,\"#ed7953\"],[0.7777777777777778,\"#fb9f3a\"],[0.8888888888888888,\"#fdca26\"],[1.0,\"#f0f921\"]],\"type\":\"histogram2d\"}],\"histogram\":[{\"marker\":{\"pattern\":{\"fillmode\":\"overlay\",\"size\":10,\"solidity\":0.2}},\"type\":\"histogram\"}],\"mesh3d\":[{\"colorbar\":{\"outlinewidth\":0,\"ticks\":\"\"},\"type\":\"mesh3d\"}],\"parcoords\":[{\"line\":{\"colorbar\":{\"outlinewidth\":0,\"ticks\":\"\"}},\"type\":\"parcoords\"}],\"pie\":[{\"automargin\":true,\"type\":\"pie\"}],\"scatter3d\":[{\"line\":{\"colorbar\":{\"outlinewidth\":0,\"ticks\":\"\"}},\"marker\":{\"colorbar\":{\"outlinewidth\":0,\"ticks\":\"\"}},\"type\":\"scatter3d\"}],\"scattercarpet\":[{\"marker\":{\"colorbar\":{\"outlinewidth\":0,\"ticks\":\"\"}},\"type\":\"scattercarpet\"}],\"scattergeo\":[{\"marker\":{\"colorbar\":{\"outlinewidth\":0,\"ticks\":\"\"}},\"type\":\"scattergeo\"}],\"scattergl\":[{\"marker\":{\"colorbar\":{\"outlinewidth\":0,\"ticks\":\"\"}},\"type\":\"scattergl\"}],\"scattermapbox\":[{\"marker\":{\"colorbar\":{\"outlinewidth\":0,\"ticks\":\"\"}},\"type\":\"scattermapbox\"}],\"scatterpolargl\":[{\"marker\":{\"colorbar\":{\"outlinewidth\":0,\"ticks\":\"\"}},\"type\":\"scatterpolargl\"}],\"scatterpolar\":[{\"marker\":{\"colorbar\":{\"outlinewidth\":0,\"ticks\":\"\"}},\"type\":\"scatterpolar\"}],\"scatter\":[{\"fillpattern\":{\"fillmode\":\"overlay\",\"size\":10,\"solidity\":0.2},\"type\":\"scatter\"}],\"scatterternary\":[{\"marker\":{\"colorbar\":{\"outlinewidth\":0,\"ticks\":\"\"}},\"type\":\"scatterternary\"}],\"surface\":[{\"colorbar\":{\"outlinewidth\":0,\"ticks\":\"\"},\"colorscale\":[[0.0,\"#0d0887\"],[0.1111111111111111,\"#46039f\"],[0.2222222222222222,\"#7201a8\"],[0.3333333333333333,\"#9c179e\"],[0.4444444444444444,\"#bd3786\"],[0.5555555555555556,\"#d8576b\"],[0.6666666666666666,\"#ed7953\"],[0.7777777777777778,\"#fb9f3a\"],[0.8888888888888888,\"#fdca26\"],[1.0,\"#f0f921\"]],\"type\":\"surface\"}],\"table\":[{\"cells\":{\"fill\":{\"color\":\"#EBF0F8\"},\"line\":{\"color\":\"white\"}},\"header\":{\"fill\":{\"color\":\"#C8D4E3\"},\"line\":{\"color\":\"white\"}},\"type\":\"table\"}]},\"layout\":{\"annotationdefaults\":{\"arrowcolor\":\"#2a3f5f\",\"arrowhead\":0,\"arrowwidth\":1},\"autotypenumbers\":\"strict\",\"coloraxis\":{\"colorbar\":{\"outlinewidth\":0,\"ticks\":\"\"}},\"colorscale\":{\"diverging\":[[0,\"#8e0152\"],[0.1,\"#c51b7d\"],[0.2,\"#de77ae\"],[0.3,\"#f1b6da\"],[0.4,\"#fde0ef\"],[0.5,\"#f7f7f7\"],[0.6,\"#e6f5d0\"],[0.7,\"#b8e186\"],[0.8,\"#7fbc41\"],[0.9,\"#4d9221\"],[1,\"#276419\"]],\"sequential\":[[0.0,\"#0d0887\"],[0.1111111111111111,\"#46039f\"],[0.2222222222222222,\"#7201a8\"],[0.3333333333333333,\"#9c179e\"],[0.4444444444444444,\"#bd3786\"],[0.5555555555555556,\"#d8576b\"],[0.6666666666666666,\"#ed7953\"],[0.7777777777777778,\"#fb9f3a\"],[0.8888888888888888,\"#fdca26\"],[1.0,\"#f0f921\"]],\"sequentialminus\":[[0.0,\"#0d0887\"],[0.1111111111111111,\"#46039f\"],[0.2222222222222222,\"#7201a8\"],[0.3333333333333333,\"#9c179e\"],[0.4444444444444444,\"#bd3786\"],[0.5555555555555556,\"#d8576b\"],[0.6666666666666666,\"#ed7953\"],[0.7777777777777778,\"#fb9f3a\"],[0.8888888888888888,\"#fdca26\"],[1.0,\"#f0f921\"]]},\"colorway\":[\"#636efa\",\"#EF553B\",\"#00cc96\",\"#ab63fa\",\"#FFA15A\",\"#19d3f3\",\"#FF6692\",\"#B6E880\",\"#FF97FF\",\"#FECB52\"],\"font\":{\"color\":\"#2a3f5f\"},\"geo\":{\"bgcolor\":\"white\",\"lakecolor\":\"white\",\"landcolor\":\"#E5ECF6\",\"showlakes\":true,\"showland\":true,\"subunitcolor\":\"white\"},\"hoverlabel\":{\"align\":\"left\"},\"hovermode\":\"closest\",\"mapbox\":{\"style\":\"light\"},\"paper_bgcolor\":\"white\",\"plot_bgcolor\":\"#E5ECF6\",\"polar\":{\"angularaxis\":{\"gridcolor\":\"white\",\"linecolor\":\"white\",\"ticks\":\"\"},\"bgcolor\":\"#E5ECF6\",\"radialaxis\":{\"gridcolor\":\"white\",\"linecolor\":\"white\",\"ticks\":\"\"}},\"scene\":{\"xaxis\":{\"backgroundcolor\":\"#E5ECF6\",\"gridcolor\":\"white\",\"gridwidth\":2,\"linecolor\":\"white\",\"showbackground\":true,\"ticks\":\"\",\"zerolinecolor\":\"white\"},\"yaxis\":{\"backgroundcolor\":\"#E5ECF6\",\"gridcolor\":\"white\",\"gridwidth\":2,\"linecolor\":\"white\",\"showbackground\":true,\"ticks\":\"\",\"zerolinecolor\":\"white\"},\"zaxis\":{\"backgroundcolor\":\"#E5ECF6\",\"gridcolor\":\"white\",\"gridwidth\":2,\"linecolor\":\"white\",\"showbackground\":true,\"ticks\":\"\",\"zerolinecolor\":\"white\"}},\"shapedefaults\":{\"line\":{\"color\":\"#2a3f5f\"}},\"ternary\":{\"aaxis\":{\"gridcolor\":\"white\",\"linecolor\":\"white\",\"ticks\":\"\"},\"baxis\":{\"gridcolor\":\"white\",\"linecolor\":\"white\",\"ticks\":\"\"},\"bgcolor\":\"#E5ECF6\",\"caxis\":{\"gridcolor\":\"white\",\"linecolor\":\"white\",\"ticks\":\"\"}},\"title\":{\"x\":0.05},\"xaxis\":{\"automargin\":true,\"gridcolor\":\"white\",\"linecolor\":\"white\",\"ticks\":\"\",\"title\":{\"standoff\":15},\"zerolinecolor\":\"white\",\"zerolinewidth\":2},\"yaxis\":{\"automargin\":true,\"gridcolor\":\"white\",\"linecolor\":\"white\",\"ticks\":\"\",\"title\":{\"standoff\":15},\"zerolinecolor\":\"white\",\"zerolinewidth\":2}}}},                        {\"responsive\": true}                    ).then(function(){\n",
       "                            \n",
       "var gd = document.getElementById('cc830313-a678-4675-8ba0-e1ca2937c672');\n",
       "var x = new MutationObserver(function (mutations, observer) {{\n",
       "        var display = window.getComputedStyle(gd).display;\n",
       "        if (!display || display === 'none') {{\n",
       "            console.log([gd, 'removed!']);\n",
       "            Plotly.purge(gd);\n",
       "            observer.disconnect();\n",
       "        }}\n",
       "}});\n",
       "\n",
       "// Listen for the removal of the full notebook cells\n",
       "var notebookContainer = gd.closest('#notebook-container');\n",
       "if (notebookContainer) {{\n",
       "    x.observe(notebookContainer, {childList: true});\n",
       "}}\n",
       "\n",
       "// Listen for the clearing of the current output cell\n",
       "var outputEl = gd.closest('.output');\n",
       "if (outputEl) {{\n",
       "    x.observe(outputEl, {childList: true});\n",
       "}}\n",
       "\n",
       "                        })                };                });            </script>        </div>"
      ],
      "text/plain": [
       "FigureWidget({\n",
       "    'data': [{'type': 'scatter', 'uid': 'fb38c724-9893-45a4-af2f-fdc9bbf9af83'}], 'layout': {'template': '...'}\n",
       "})"
      ]
     },
     "execution_count": 47,
     "metadata": {},
     "output_type": "execute_result"
    }
   ],
   "source": [
    "fig = go.FigureWidget()\n",
    "fig.add_scatter()\n",
    "fig"
   ]
  },
  {
   "cell_type": "code",
   "execution_count": 48,
   "id": "e6be8afa-bb49-4871-8114-307883f2d232",
   "metadata": {},
   "outputs": [],
   "source": [
    "for i in range(len(data)):\n",
    "    time.sleep(0.3)\n",
    "    fig.data[0].y = data[:i] "
   ]
  },
  {
   "cell_type": "code",
   "execution_count": 49,
   "id": "e56c3b94-7ef3-43ca-aa5b-2a84698e25e1",
   "metadata": {},
   "outputs": [],
   "source": [
    "for i in range(len(data)):\n",
    "    time.sleep(0.3)\n",
    "    with fig.batch_update():\n",
    "        fig.data[0].y = data[:i]"
   ]
  },
  {
   "cell_type": "code",
   "execution_count": 50,
   "id": "050a347c-6571-473b-be34-4dfa4b0d9d16",
   "metadata": {},
   "outputs": [
    {
     "data": {
      "text/html": [
       "<div>\n",
       "<style scoped>\n",
       "    .dataframe tbody tr th:only-of-type {\n",
       "        vertical-align: middle;\n",
       "    }\n",
       "\n",
       "    .dataframe tbody tr th {\n",
       "        vertical-align: top;\n",
       "    }\n",
       "\n",
       "    .dataframe thead th {\n",
       "        text-align: right;\n",
       "    }\n",
       "</style>\n",
       "<table border=\"1\" class=\"dataframe\">\n",
       "  <thead>\n",
       "    <tr style=\"text-align: right;\">\n",
       "      <th></th>\n",
       "      <th>CountyFIPS</th>\n",
       "      <th>tax_delta</th>\n",
       "      <th>Year</th>\n",
       "    </tr>\n",
       "  </thead>\n",
       "  <tbody>\n",
       "    <tr>\n",
       "      <th>96</th>\n",
       "      <td>01001</td>\n",
       "      <td>0.00</td>\n",
       "      <td>2020</td>\n",
       "    </tr>\n",
       "    <tr>\n",
       "      <th>198</th>\n",
       "      <td>01003</td>\n",
       "      <td>0.00</td>\n",
       "      <td>2020</td>\n",
       "    </tr>\n",
       "    <tr>\n",
       "      <th>300</th>\n",
       "      <td>01005</td>\n",
       "      <td>0.00</td>\n",
       "      <td>2020</td>\n",
       "    </tr>\n",
       "    <tr>\n",
       "      <th>402</th>\n",
       "      <td>01007</td>\n",
       "      <td>0.00</td>\n",
       "      <td>2020</td>\n",
       "    </tr>\n",
       "    <tr>\n",
       "      <th>504</th>\n",
       "      <td>01009</td>\n",
       "      <td>0.00</td>\n",
       "      <td>2020</td>\n",
       "    </tr>\n",
       "    <tr>\n",
       "      <th>...</th>\n",
       "      <td>...</td>\n",
       "      <td>...</td>\n",
       "      <td>...</td>\n",
       "    </tr>\n",
       "    <tr>\n",
       "      <th>316871</th>\n",
       "      <td>56035</td>\n",
       "      <td>0.04</td>\n",
       "      <td>2020</td>\n",
       "    </tr>\n",
       "    <tr>\n",
       "      <th>316973</th>\n",
       "      <td>56037</td>\n",
       "      <td>0.04</td>\n",
       "      <td>2020</td>\n",
       "    </tr>\n",
       "    <tr>\n",
       "      <th>317075</th>\n",
       "      <td>56041</td>\n",
       "      <td>0.04</td>\n",
       "      <td>2020</td>\n",
       "    </tr>\n",
       "    <tr>\n",
       "      <th>317177</th>\n",
       "      <td>56043</td>\n",
       "      <td>0.04</td>\n",
       "      <td>2020</td>\n",
       "    </tr>\n",
       "    <tr>\n",
       "      <th>317279</th>\n",
       "      <td>56045</td>\n",
       "      <td>0.04</td>\n",
       "      <td>2020</td>\n",
       "    </tr>\n",
       "  </tbody>\n",
       "</table>\n",
       "<p>3139 rows × 3 columns</p>\n",
       "</div>"
      ],
      "text/plain": [
       "       CountyFIPS  tax_delta  Year\n",
       "96          01001       0.00  2020\n",
       "198         01003       0.00  2020\n",
       "300         01005       0.00  2020\n",
       "402         01007       0.00  2020\n",
       "504         01009       0.00  2020\n",
       "...           ...        ...   ...\n",
       "316871      56035       0.04  2020\n",
       "316973      56037       0.04  2020\n",
       "317075      56041       0.04  2020\n",
       "317177      56043       0.04  2020\n",
       "317279      56045       0.04  2020\n",
       "\n",
       "[3139 rows x 3 columns]"
      ]
     },
     "execution_count": 50,
     "metadata": {},
     "output_type": "execute_result"
    }
   ],
   "source": [
    "tax_df"
   ]
  },
  {
   "cell_type": "code",
   "execution_count": 56,
   "id": "74ec0d35-ab22-4863-93f6-ffe1020dbac2",
   "metadata": {},
   "outputs": [],
   "source": [
    "from PIL import Image\n",
    "import glob\n",
    "\n",
    "def make_gif(frame_folder, output_path):\n",
    "    # Create a list of image file paths\n",
    "    frames = [Image.open(image) for image in glob.glob(f\"fig2*.png\")]\n",
    "    # print(frames)\n",
    "    # Save the first frame as a GIF and append the rest\n",
    "    frames[0].save(output_path, format='GIF', append_images=frames[1:], save_all=True, duration=800, loop=0)\n",
    "\n",
    "# Call the function with the path to your images and the desired output GIF path\n",
    "make_gif('/', 'output.gif')"
   ]
  },
  {
   "cell_type": "code",
   "execution_count": null,
   "id": "388833a5-6170-4168-aa86-0236de0ff74b",
   "metadata": {},
   "outputs": [],
   "source": []
  }
 ],
 "metadata": {
  "kernelspec": {
   "display_name": "Python 3 (ipykernel)",
   "language": "python",
   "name": "python3"
  },
  "language_info": {
   "codemirror_mode": {
    "name": "ipython",
    "version": 3
   },
   "file_extension": ".py",
   "mimetype": "text/x-python",
   "name": "python",
   "nbconvert_exporter": "python",
   "pygments_lexer": "ipython3",
   "version": "3.12.1"
  }
 },
 "nbformat": 4,
 "nbformat_minor": 5
}
