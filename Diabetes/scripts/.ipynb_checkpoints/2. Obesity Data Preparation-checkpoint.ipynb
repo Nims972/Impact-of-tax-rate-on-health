{
 "cells": [
  {
   "cell_type": "markdown",
   "id": "d3e90f3d",
   "metadata": {},
   "source": [
    "#### Importing Libraries"
   ]
  },
  {
   "cell_type": "code",
   "execution_count": 1,
   "id": "59988930",
   "metadata": {},
   "outputs": [],
   "source": [
    "import pandas as pd\n",
    "import numpy as np\n",
    "import seaborn as sns\n",
    "import matplotlib.pyplot as plt\n",
    "import statsmodels.api as sm\n",
    "\n",
    "# code to ignore warnings\n",
    "import warnings\n",
    "warnings.filterwarnings(\"ignore\")\n",
    "\n",
    "root_csv = '../csv files/'\n",
    "root_pickle = '../pickle files/'"
   ]
  },
  {
   "cell_type": "markdown",
   "id": "066dc47d",
   "metadata": {},
   "source": [
    "#### Reading Files"
   ]
  },
  {
   "cell_type": "code",
   "execution_count": 2,
   "id": "ab11ee65",
   "metadata": {},
   "outputs": [
    {
     "ename": "FileNotFoundError",
     "evalue": "[Errno 2] No such file or directory: '../pickle files/obese_County_Data_New.xlsx'",
     "output_type": "error",
     "traceback": [
      "\u001b[1;31m---------------------------------------------------------------------------\u001b[0m",
      "\u001b[1;31mFileNotFoundError\u001b[0m                         Traceback (most recent call last)",
      "\u001b[1;32m~\\AppData\\Local\\Temp\\ipykernel_30100\\191130243.py\u001b[0m in \u001b[0;36m<module>\u001b[1;34m\u001b[0m\n\u001b[1;32m----> 1\u001b[1;33m \u001b[0mdf_obese\u001b[0m \u001b[1;33m=\u001b[0m \u001b[0mpd\u001b[0m\u001b[1;33m.\u001b[0m\u001b[0mread_excel\u001b[0m\u001b[1;33m(\u001b[0m\u001b[0mroot_pickle\u001b[0m \u001b[1;33m+\u001b[0m \u001b[1;34m'obese_County_Data_New.xlsx'\u001b[0m\u001b[1;33m)\u001b[0m\u001b[1;33m\u001b[0m\u001b[1;33m\u001b[0m\u001b[0m\n\u001b[0m",
      "\u001b[1;32mC:\\ProgramData\\Anaconda3\\lib\\site-packages\\pandas\\util\\_decorators.py\u001b[0m in \u001b[0;36mwrapper\u001b[1;34m(*args, **kwargs)\u001b[0m\n\u001b[0;32m    309\u001b[0m                     \u001b[0mstacklevel\u001b[0m\u001b[1;33m=\u001b[0m\u001b[0mstacklevel\u001b[0m\u001b[1;33m,\u001b[0m\u001b[1;33m\u001b[0m\u001b[1;33m\u001b[0m\u001b[0m\n\u001b[0;32m    310\u001b[0m                 )\n\u001b[1;32m--> 311\u001b[1;33m             \u001b[1;32mreturn\u001b[0m \u001b[0mfunc\u001b[0m\u001b[1;33m(\u001b[0m\u001b[1;33m*\u001b[0m\u001b[0margs\u001b[0m\u001b[1;33m,\u001b[0m \u001b[1;33m**\u001b[0m\u001b[0mkwargs\u001b[0m\u001b[1;33m)\u001b[0m\u001b[1;33m\u001b[0m\u001b[1;33m\u001b[0m\u001b[0m\n\u001b[0m\u001b[0;32m    312\u001b[0m \u001b[1;33m\u001b[0m\u001b[0m\n\u001b[0;32m    313\u001b[0m         \u001b[1;32mreturn\u001b[0m \u001b[0mwrapper\u001b[0m\u001b[1;33m\u001b[0m\u001b[1;33m\u001b[0m\u001b[0m\n",
      "\u001b[1;32mC:\\ProgramData\\Anaconda3\\lib\\site-packages\\pandas\\io\\excel\\_base.py\u001b[0m in \u001b[0;36mread_excel\u001b[1;34m(io, sheet_name, header, names, index_col, usecols, squeeze, dtype, engine, converters, true_values, false_values, skiprows, nrows, na_values, keep_default_na, na_filter, verbose, parse_dates, date_parser, thousands, decimal, comment, skipfooter, convert_float, mangle_dupe_cols, storage_options)\u001b[0m\n\u001b[0;32m    455\u001b[0m     \u001b[1;32mif\u001b[0m \u001b[1;32mnot\u001b[0m \u001b[0misinstance\u001b[0m\u001b[1;33m(\u001b[0m\u001b[0mio\u001b[0m\u001b[1;33m,\u001b[0m \u001b[0mExcelFile\u001b[0m\u001b[1;33m)\u001b[0m\u001b[1;33m:\u001b[0m\u001b[1;33m\u001b[0m\u001b[1;33m\u001b[0m\u001b[0m\n\u001b[0;32m    456\u001b[0m         \u001b[0mshould_close\u001b[0m \u001b[1;33m=\u001b[0m \u001b[1;32mTrue\u001b[0m\u001b[1;33m\u001b[0m\u001b[1;33m\u001b[0m\u001b[0m\n\u001b[1;32m--> 457\u001b[1;33m         \u001b[0mio\u001b[0m \u001b[1;33m=\u001b[0m \u001b[0mExcelFile\u001b[0m\u001b[1;33m(\u001b[0m\u001b[0mio\u001b[0m\u001b[1;33m,\u001b[0m \u001b[0mstorage_options\u001b[0m\u001b[1;33m=\u001b[0m\u001b[0mstorage_options\u001b[0m\u001b[1;33m,\u001b[0m \u001b[0mengine\u001b[0m\u001b[1;33m=\u001b[0m\u001b[0mengine\u001b[0m\u001b[1;33m)\u001b[0m\u001b[1;33m\u001b[0m\u001b[1;33m\u001b[0m\u001b[0m\n\u001b[0m\u001b[0;32m    458\u001b[0m     \u001b[1;32melif\u001b[0m \u001b[0mengine\u001b[0m \u001b[1;32mand\u001b[0m \u001b[0mengine\u001b[0m \u001b[1;33m!=\u001b[0m \u001b[0mio\u001b[0m\u001b[1;33m.\u001b[0m\u001b[0mengine\u001b[0m\u001b[1;33m:\u001b[0m\u001b[1;33m\u001b[0m\u001b[1;33m\u001b[0m\u001b[0m\n\u001b[0;32m    459\u001b[0m         raise ValueError(\n",
      "\u001b[1;32mC:\\ProgramData\\Anaconda3\\lib\\site-packages\\pandas\\io\\excel\\_base.py\u001b[0m in \u001b[0;36m__init__\u001b[1;34m(self, path_or_buffer, engine, storage_options)\u001b[0m\n\u001b[0;32m   1374\u001b[0m                 \u001b[0mext\u001b[0m \u001b[1;33m=\u001b[0m \u001b[1;34m\"xls\"\u001b[0m\u001b[1;33m\u001b[0m\u001b[1;33m\u001b[0m\u001b[0m\n\u001b[0;32m   1375\u001b[0m             \u001b[1;32melse\u001b[0m\u001b[1;33m:\u001b[0m\u001b[1;33m\u001b[0m\u001b[1;33m\u001b[0m\u001b[0m\n\u001b[1;32m-> 1376\u001b[1;33m                 ext = inspect_excel_format(\n\u001b[0m\u001b[0;32m   1377\u001b[0m                     \u001b[0mcontent_or_path\u001b[0m\u001b[1;33m=\u001b[0m\u001b[0mpath_or_buffer\u001b[0m\u001b[1;33m,\u001b[0m \u001b[0mstorage_options\u001b[0m\u001b[1;33m=\u001b[0m\u001b[0mstorage_options\u001b[0m\u001b[1;33m\u001b[0m\u001b[1;33m\u001b[0m\u001b[0m\n\u001b[0;32m   1378\u001b[0m                 )\n",
      "\u001b[1;32mC:\\ProgramData\\Anaconda3\\lib\\site-packages\\pandas\\io\\excel\\_base.py\u001b[0m in \u001b[0;36minspect_excel_format\u001b[1;34m(content_or_path, storage_options)\u001b[0m\n\u001b[0;32m   1248\u001b[0m         \u001b[0mcontent_or_path\u001b[0m \u001b[1;33m=\u001b[0m \u001b[0mBytesIO\u001b[0m\u001b[1;33m(\u001b[0m\u001b[0mcontent_or_path\u001b[0m\u001b[1;33m)\u001b[0m\u001b[1;33m\u001b[0m\u001b[1;33m\u001b[0m\u001b[0m\n\u001b[0;32m   1249\u001b[0m \u001b[1;33m\u001b[0m\u001b[0m\n\u001b[1;32m-> 1250\u001b[1;33m     with get_handle(\n\u001b[0m\u001b[0;32m   1251\u001b[0m         \u001b[0mcontent_or_path\u001b[0m\u001b[1;33m,\u001b[0m \u001b[1;34m\"rb\"\u001b[0m\u001b[1;33m,\u001b[0m \u001b[0mstorage_options\u001b[0m\u001b[1;33m=\u001b[0m\u001b[0mstorage_options\u001b[0m\u001b[1;33m,\u001b[0m \u001b[0mis_text\u001b[0m\u001b[1;33m=\u001b[0m\u001b[1;32mFalse\u001b[0m\u001b[1;33m\u001b[0m\u001b[1;33m\u001b[0m\u001b[0m\n\u001b[0;32m   1252\u001b[0m     ) as handle:\n",
      "\u001b[1;32mC:\\ProgramData\\Anaconda3\\lib\\site-packages\\pandas\\io\\common.py\u001b[0m in \u001b[0;36mget_handle\u001b[1;34m(path_or_buf, mode, encoding, compression, memory_map, is_text, errors, storage_options)\u001b[0m\n\u001b[0;32m    793\u001b[0m         \u001b[1;32melse\u001b[0m\u001b[1;33m:\u001b[0m\u001b[1;33m\u001b[0m\u001b[1;33m\u001b[0m\u001b[0m\n\u001b[0;32m    794\u001b[0m             \u001b[1;31m# Binary mode\u001b[0m\u001b[1;33m\u001b[0m\u001b[1;33m\u001b[0m\u001b[0m\n\u001b[1;32m--> 795\u001b[1;33m             \u001b[0mhandle\u001b[0m \u001b[1;33m=\u001b[0m \u001b[0mopen\u001b[0m\u001b[1;33m(\u001b[0m\u001b[0mhandle\u001b[0m\u001b[1;33m,\u001b[0m \u001b[0mioargs\u001b[0m\u001b[1;33m.\u001b[0m\u001b[0mmode\u001b[0m\u001b[1;33m)\u001b[0m\u001b[1;33m\u001b[0m\u001b[1;33m\u001b[0m\u001b[0m\n\u001b[0m\u001b[0;32m    796\u001b[0m         \u001b[0mhandles\u001b[0m\u001b[1;33m.\u001b[0m\u001b[0mappend\u001b[0m\u001b[1;33m(\u001b[0m\u001b[0mhandle\u001b[0m\u001b[1;33m)\u001b[0m\u001b[1;33m\u001b[0m\u001b[1;33m\u001b[0m\u001b[0m\n\u001b[0;32m    797\u001b[0m \u001b[1;33m\u001b[0m\u001b[0m\n",
      "\u001b[1;31mFileNotFoundError\u001b[0m: [Errno 2] No such file or directory: '../pickle files/obese_County_Data_New.xlsx'"
     ]
    }
   ],
   "source": [
    "df_obese = pd.read_excel(root_pickle + 'obese_County_Data_New.xlsx')"
   ]
  },
  {
   "cell_type": "code",
   "execution_count": null,
   "id": "bfbc1d12",
   "metadata": {},
   "outputs": [],
   "source": [
    "# Restricting to required columns\n",
    "df_obese = df_obese[['State','County','CountyFIPS','Year','Tax_Type','Rate','Total Absolute','Total Percentage','Gender','Gender Absolute','Gender Percentage','Age','Age Obesity Absolute','Age Obesity Percentage','Notes_On_Tax_Rate']]"
   ]
  },
  {
   "cell_type": "code",
   "execution_count": null,
   "id": "8d394d8f",
   "metadata": {},
   "outputs": [],
   "source": [
    "# Check for data type\n",
    "df_obese.dtypes"
   ]
  },
  {
   "cell_type": "code",
   "execution_count": null,
   "id": "e5d6ec7b",
   "metadata": {},
   "outputs": [],
   "source": [
    "# Converting data type\n",
    "columns_to_convert = ['Total Absolute', 'Total Percentage', 'Gender Absolute', 'Gender Percentage', 'Age Obesity Absolute', 'Age Obesity Percentage']\n",
    "for column in columns_to_convert:\n",
    "    df_obese[column] = pd.to_numeric(df_obese[column], errors='coerce', downcast='float')"
   ]
  },
  {
   "cell_type": "code",
   "execution_count": null,
   "id": "7f9f664b",
   "metadata": {},
   "outputs": [],
   "source": [
    "df_obese.head(5)"
   ]
  },
  {
   "cell_type": "code",
   "execution_count": null,
   "id": "e2809db2",
   "metadata": {},
   "outputs": [],
   "source": [
    "# Check for Null Values\n",
    "df_obese.isna().sum()"
   ]
  },
  {
   "cell_type": "code",
   "execution_count": null,
   "id": "19eebdf7",
   "metadata": {},
   "outputs": [],
   "source": [
    "df_obese.dropna(subset={'Total Percentage','Total Absolute'},inplace=True)"
   ]
  },
  {
   "cell_type": "code",
   "execution_count": null,
   "id": "b9b895be",
   "metadata": {},
   "outputs": [],
   "source": [
    "# Pivot the Tax_Type column\n",
    "df_obese_pivot = df_obese.pivot_table(index=['State', 'County', 'CountyFIPS', 'Year', 'Total Absolute','Total Percentage',\n",
    "                                      'Gender', 'Gender Absolute', 'Gender Percentage','Age', 'Age Obesity Absolute',\n",
    "                                     'Age Obesity Percentage'],\n",
    "                           columns='Tax_Type', values='Rate', aggfunc='mean').reset_index()\n",
    "\n",
    "# Rename the columns for clarity\n",
    "df_obese_pivot.columns.name = None  # Remove the 'Tax_Type' label\n",
    "\n",
    "df_obese_pivot.head(5)"
   ]
  },
  {
   "cell_type": "code",
   "execution_count": null,
   "id": "624ea3e1",
   "metadata": {},
   "outputs": [],
   "source": [
    "df_obese_pivot.isna().sum()"
   ]
  },
  {
   "cell_type": "markdown",
   "id": "a852c748",
   "metadata": {},
   "source": [
    "#### Saving pickle files for unified Obesity dataset pivot"
   ]
  },
  {
   "cell_type": "code",
   "execution_count": null,
   "id": "724bbddc",
   "metadata": {},
   "outputs": [],
   "source": [
    "df_obese_pivot.to_pickle(root_pickle + 'Obesity_Unified_Pivot.pkl')"
   ]
  },
  {
   "cell_type": "code",
   "execution_count": null,
   "id": "8fa3891e",
   "metadata": {},
   "outputs": [],
   "source": [
    "df_obese_pivot = pd.read_pickle(root_pickle +'Obesity_Unified_Pivot.pkl')\n",
    "df_obese_pivot.head(5)"
   ]
  },
  {
   "cell_type": "markdown",
   "id": "77122bf1",
   "metadata": {},
   "source": [
    "#### Saving pickle file for total abolute and percentage "
   ]
  },
  {
   "cell_type": "code",
   "execution_count": null,
   "id": "8de3fd95",
   "metadata": {},
   "outputs": [],
   "source": [
    "df_obese_total_pivot = df_obese_pivot[['State','County','CountyFIPS', 'Year', 'Total Absolute','Total Percentage','Grocery Tax','Restaurant Tax']]\n",
    "df_obese_total_pivot.drop_duplicates(inplace=True)"
   ]
  },
  {
   "cell_type": "code",
   "execution_count": null,
   "id": "61f59365",
   "metadata": {},
   "outputs": [],
   "source": [
    "df_obese_total_pivot['tax_delta'] = df_obese_total_pivot['Restaurant Tax'] - df_obese_total_pivot['Grocery Tax']"
   ]
  },
  {
   "cell_type": "code",
   "execution_count": null,
   "id": "f6dd97dc",
   "metadata": {},
   "outputs": [],
   "source": [
    "df_obese_total_pivot['Population'] = (df_obese_total_pivot['Total Absolute']*100) / df_obese_total_pivot['Total Percentage']"
   ]
  },
  {
   "cell_type": "code",
   "execution_count": null,
   "id": "6edb54a4",
   "metadata": {},
   "outputs": [],
   "source": [
    "df_obese_total_pivot.to_pickle(root_pickle + 'Obesity_Total_Pivot.pkl')"
   ]
  },
  {
   "cell_type": "code",
   "execution_count": null,
   "id": "1362346d",
   "metadata": {},
   "outputs": [],
   "source": [
    "df_obese_total_pivot = pd.read_pickle(root_pickle +'Obesity_Total_Pivot.pkl')\n",
    "df_obese_total_pivot.head(5)"
   ]
  },
  {
   "cell_type": "markdown",
   "id": "9a7f25f9",
   "metadata": {},
   "source": [
    "#### Saving pickle file for gender abolute and percentage "
   ]
  },
  {
   "cell_type": "code",
   "execution_count": null,
   "id": "90d01043",
   "metadata": {},
   "outputs": [],
   "source": [
    "df_obese_gender_pivot = df_obese_pivot[['State','County','CountyFIPS', 'Year', 'Gender Absolute','Gender Percentage','Gender','Grocery Tax','Restaurant Tax']]\n",
    "df_obese_gender_pivot.drop_duplicates(inplace=True)"
   ]
  },
  {
   "cell_type": "code",
   "execution_count": null,
   "id": "7d474a25",
   "metadata": {},
   "outputs": [],
   "source": [
    "df_obese_gender_pivot['tax_delta'] = df_obese_gender_pivot['Restaurant Tax'] - df_obese_gender_pivot['Grocery Tax']"
   ]
  },
  {
   "cell_type": "code",
   "execution_count": null,
   "id": "397ee89c",
   "metadata": {},
   "outputs": [],
   "source": [
    "df_obese_gender_pivot['Population'] = (df_obese_gender_pivot['Gender Absolute']*100) / df_obese_gender_pivot['Gender Percentage']"
   ]
  },
  {
   "cell_type": "code",
   "execution_count": null,
   "id": "1ad5f092",
   "metadata": {},
   "outputs": [],
   "source": [
    "df_obese_gender_pivot.to_pickle(root_pickle + 'Obesity_Gender_Pivot.pkl')"
   ]
  },
  {
   "cell_type": "code",
   "execution_count": null,
   "id": "1a0f14f7",
   "metadata": {},
   "outputs": [],
   "source": [
    "df_obese_gender_pivot = pd.read_pickle(root_pickle +'Obesity_Gender_Pivot.pkl')\n",
    "df_obese_gender_pivot.head(5)"
   ]
  },
  {
   "cell_type": "markdown",
   "id": "59a49595",
   "metadata": {},
   "source": [
    "#### Saving pickle file for age abolute and percentage"
   ]
  },
  {
   "cell_type": "code",
   "execution_count": null,
   "id": "4a525eb6",
   "metadata": {},
   "outputs": [],
   "source": [
    "df_obese_age_pivot = df_obese_pivot[['State','County','CountyFIPS', 'Year', 'Age Obesity Absolute','Age Obesity Percentage','Age','Grocery Tax','Restaurant Tax']]\n",
    "df_obese_age_pivot.drop_duplicates(inplace=True)"
   ]
  },
  {
   "cell_type": "code",
   "execution_count": null,
   "id": "34e7e2a2",
   "metadata": {},
   "outputs": [],
   "source": [
    "df_obese_age_pivot['tax_delta'] = df_obese_age_pivot['Restaurant Tax'] - df_obese_age_pivot['Grocery Tax']"
   ]
  },
  {
   "cell_type": "code",
   "execution_count": null,
   "id": "b53890c8",
   "metadata": {},
   "outputs": [],
   "source": [
    "df_obese_age_pivot['Population'] = (df_obese_age_pivot['Age Obesity Absolute']*100) / df_obese_age_pivot['Age Obesity Percentage']"
   ]
  },
  {
   "cell_type": "code",
   "execution_count": null,
   "id": "13c67404",
   "metadata": {},
   "outputs": [],
   "source": [
    "df_obese_age_pivot.to_pickle(root_pickle + 'Obesity_Age_Pivot.pkl')"
   ]
  },
  {
   "cell_type": "code",
   "execution_count": null,
   "id": "bc5b7687",
   "metadata": {},
   "outputs": [],
   "source": [
    "df_obese_age_pivot = pd.read_pickle(root_pickle +'Obesity_Age_Pivot.pkl')\n",
    "df_obese_age_pivot.head(5)"
   ]
  }
 ],
 "metadata": {
  "kernelspec": {
   "display_name": "Python 3 (ipykernel)",
   "language": "python",
   "name": "python3"
  },
  "language_info": {
   "codemirror_mode": {
    "name": "ipython",
    "version": 3
   },
   "file_extension": ".py",
   "mimetype": "text/x-python",
   "name": "python",
   "nbconvert_exporter": "python",
   "pygments_lexer": "ipython3",
   "version": "3.9.13"
  }
 },
 "nbformat": 4,
 "nbformat_minor": 5
}
