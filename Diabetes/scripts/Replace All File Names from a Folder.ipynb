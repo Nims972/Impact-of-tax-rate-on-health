{
 "cells": [
  {
   "cell_type": "code",
   "execution_count": 13,
   "id": "a620d96d",
   "metadata": {},
   "outputs": [
    {
     "name": "stdout",
     "output_type": "stream",
     "text": [
      "Renamed: DiabetesAtlas_CountyData_2004.csv to ObesityAtlas_CountyData_2004.csv\n",
      "Renamed: DiabetesAtlas_CountyData_2005.csv to ObesityAtlas_CountyData_2005.csv\n",
      "Renamed: DiabetesAtlas_CountyData_2006.csv to ObesityAtlas_CountyData_2006.csv\n",
      "Renamed: DiabetesAtlas_CountyData_2007.csv to ObesityAtlas_CountyData_2007.csv\n",
      "Renamed: DiabetesAtlas_CountyData_2008.csv to ObesityAtlas_CountyData_2008.csv\n",
      "Renamed: DiabetesAtlas_CountyData_2009.csv to ObesityAtlas_CountyData_2009.csv\n",
      "Renamed: DiabetesAtlas_CountyData_2010.csv to ObesityAtlas_CountyData_2010.csv\n",
      "Renamed: DiabetesAtlas_CountyData_2011.csv to ObesityAtlas_CountyData_2011.csv\n",
      "Renamed: DiabetesAtlas_CountyData_2012.csv to ObesityAtlas_CountyData_2012.csv\n",
      "Renamed: DiabetesAtlas_CountyData_2013.csv to ObesityAtlas_CountyData_2013.csv\n",
      "Renamed: DiabetesAtlas_CountyData_2014.csv to ObesityAtlas_CountyData_2014.csv\n",
      "Renamed: DiabetesAtlas_CountyData_2015.csv to ObesityAtlas_CountyData_2015.csv\n",
      "Renamed: DiabetesAtlas_CountyData_2016.csv to ObesityAtlas_CountyData_2016.csv\n",
      "Renamed: DiabetesAtlas_CountyData_2017.csv to ObesityAtlas_CountyData_2017.csv\n",
      "Renamed: DiabetesAtlas_CountyData_2018.csv to ObesityAtlas_CountyData_2018.csv\n",
      "Renamed: DiabetesAtlas_CountyData_2019.csv to ObesityAtlas_CountyData_2019.csv\n",
      "Renamed: DiabetesAtlas_CountyData_2020.csv to ObesityAtlas_CountyData_2020.csv\n"
     ]
    }
   ],
   "source": [
    "import os\n",
    "\n",
    "def replace_in_filename(folder_path, old_part, new_part):\n",
    "    for filename in os.listdir(folder_path):\n",
    "        if old_part in filename:\n",
    "            new_filename = filename.replace(old_part, new_part)\n",
    "            old_filepath = os.path.join(folder_path, filename)\n",
    "            new_filepath = os.path.join(folder_path, new_filename)\n",
    "            \n",
    "            os.rename(old_filepath, new_filepath)\n",
    "            print(f\"Renamed: {filename} to {new_filename}\")\n",
    "\n",
    "# Example usage\n",
    "folder_path = 'C:/Users/nidsp/OneDrive - Illinois Institute of Technology/Desktop/Illinois Institute of Technology Courseworks/RES-MATCH/Obesity_Percentage/Age/65_beyond'\n",
    "old_part_to_replace = 'DiabetesAtlas_CountyData_'\n",
    "new_part = 'ObesityAtlas_CountyData_'\n",
    "\n",
    "replace_in_filename(folder_path, old_part_to_replace, new_part)"
   ]
  },
  {
   "cell_type": "code",
   "execution_count": null,
   "id": "b3d958b7",
   "metadata": {},
   "outputs": [],
   "source": []
  }
 ],
 "metadata": {
  "kernelspec": {
   "display_name": "Python 3 (ipykernel)",
   "language": "python",
   "name": "python3"
  },
  "language_info": {
   "codemirror_mode": {
    "name": "ipython",
    "version": 3
   },
   "file_extension": ".py",
   "mimetype": "text/x-python",
   "name": "python",
   "nbconvert_exporter": "python",
   "pygments_lexer": "ipython3",
   "version": "3.9.13"
  }
 },
 "nbformat": 4,
 "nbformat_minor": 5
}
