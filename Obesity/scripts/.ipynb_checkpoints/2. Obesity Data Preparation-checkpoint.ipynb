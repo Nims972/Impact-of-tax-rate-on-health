{
 "cells": [
  {
   "cell_type": "markdown",
   "id": "d3e90f3d",
   "metadata": {},
   "source": [
    "#### Importing Libraries"
   ]
  },
  {
   "cell_type": "code",
   "execution_count": 1,
   "id": "59988930",
   "metadata": {},
   "outputs": [],
   "source": [
    "import pandas as pd\n",
    "import numpy as np\n",
    "import seaborn as sns\n",
    "import matplotlib.pyplot as plt\n",
    "import statsmodels.api as sm\n",
    "\n",
    "# code to ignore warnings\n",
    "import warnings\n",
    "warnings.filterwarnings(\"ignore\")\n",
    "\n",
    "root_csv = '../csv files/'\n",
    "root_pickle = '../pickle files/'"
   ]
  },
  {
   "cell_type": "markdown",
   "id": "066dc47d",
   "metadata": {},
   "source": [
    "#### Reading Files"
   ]
  },
  {
   "cell_type": "code",
   "execution_count": null,
   "id": "ab11ee65",
   "metadata": {},
   "outputs": [],
   "source": [
    "df_obese = pd.read_excel(root_pickle + 'obese_County_Data_New.xlsx')"
   ]
  },
  {
   "cell_type": "code",
   "execution_count": null,
   "id": "bfbc1d12",
   "metadata": {},
   "outputs": [],
   "source": [
    "# Restricting to required columns\n",
    "df_obese = df_obese[['State','County','CountyFIPS','Year','Tax_Type','Rate','Total Absolute','Total Percentage','Gender','Gender Absolute','Gender Percentage','Age','Age Obesity Absolute','Age Obesity Percentage','Notes_On_Tax_Rate']]"
   ]
  },
  {
   "cell_type": "code",
   "execution_count": null,
   "id": "8d394d8f",
   "metadata": {},
   "outputs": [],
   "source": [
    "# Check for data type\n",
    "df_obese.dtypes"
   ]
  },
  {
   "cell_type": "code",
   "execution_count": null,
   "id": "e5d6ec7b",
   "metadata": {},
   "outputs": [],
   "source": [
    "# Converting data type\n",
    "columns_to_convert = ['Total Absolute', 'Total Percentage', 'Gender Absolute', 'Gender Percentage', 'Age Obesity Absolute', 'Age Obesity Percentage']\n",
    "for column in columns_to_convert:\n",
    "    df_obese[column] = pd.to_numeric(df_obese[column], errors='coerce', downcast='float')"
   ]
  },
  {
   "cell_type": "code",
   "execution_count": null,
   "id": "7f9f664b",
   "metadata": {},
   "outputs": [],
   "source": [
    "df_obese.head(5)"
   ]
  },
  {
   "cell_type": "code",
   "execution_count": null,
   "id": "e2809db2",
   "metadata": {},
   "outputs": [],
   "source": [
    "# Check for Null Values\n",
    "df_obese.isna().sum()"
   ]
  },
  {
   "cell_type": "code",
   "execution_count": null,
   "id": "19eebdf7",
   "metadata": {},
   "outputs": [],
   "source": [
    "df_obese.dropna(subset={'Total Percentage','Total Absolute'},inplace=True)"
   ]
  },
  {
   "cell_type": "code",
   "execution_count": null,
   "id": "b9b895be",
   "metadata": {},
   "outputs": [],
   "source": [
    "# Pivot the Tax_Type column\n",
    "df_obese_pivot = df_obese.pivot_table(index=['State', 'County', 'CountyFIPS', 'Year', 'Total Absolute','Total Percentage',\n",
    "                                      'Gender', 'Gender Absolute', 'Gender Percentage','Age', 'Age Obesity Absolute',\n",
    "                                     'Age Obesity Percentage'],\n",
    "                           columns='Tax_Type', values='Rate', aggfunc='mean').reset_index()\n",
    "\n",
    "# Rename the columns for clarity\n",
    "df_obese_pivot.columns.name = None  # Remove the 'Tax_Type' label\n",
    "\n",
    "df_obese_pivot.head(5)"
   ]
  },
  {
   "cell_type": "code",
   "execution_count": null,
   "id": "624ea3e1",
   "metadata": {},
   "outputs": [],
   "source": [
    "df_obese_pivot.isna().sum()"
   ]
  },
  {
   "cell_type": "markdown",
   "id": "a852c748",
   "metadata": {},
   "source": [
    "#### Saving pickle files for unified Obesity dataset pivot"
   ]
  },
  {
   "cell_type": "code",
   "execution_count": null,
   "id": "724bbddc",
   "metadata": {},
   "outputs": [],
   "source": [
    "df_obese_pivot.to_pickle(root_pickle + 'Obesity_Unified_Pivot.pkl')"
   ]
  },
  {
   "cell_type": "code",
   "execution_count": null,
   "id": "8fa3891e",
   "metadata": {},
   "outputs": [],
   "source": [
    "df_obese_pivot = pd.read_pickle(root_pickle +'Obesity_Unified_Pivot.pkl')\n",
    "df_obese_pivot.head(5)"
   ]
  },
  {
   "cell_type": "markdown",
   "id": "77122bf1",
   "metadata": {},
   "source": [
    "#### Saving pickle file for total abolute and percentage "
   ]
  },
  {
   "cell_type": "code",
   "execution_count": null,
   "id": "8de3fd95",
   "metadata": {},
   "outputs": [],
   "source": [
    "df_obese_total_pivot = df_obese_pivot[['State','County','CountyFIPS', 'Year', 'Total Absolute','Total Percentage','Grocery Tax','Restaurant Tax']]\n",
    "df_obese_total_pivot.drop_duplicates(inplace=True)"
   ]
  },
  {
   "cell_type": "code",
   "execution_count": null,
   "id": "61f59365",
   "metadata": {},
   "outputs": [],
   "source": [
    "df_obese_total_pivot['tax_delta'] = df_obese_total_pivot['Restaurant Tax'] - df_obese_total_pivot['Grocery Tax']"
   ]
  },
  {
   "cell_type": "code",
   "execution_count": null,
   "id": "f6dd97dc",
   "metadata": {},
   "outputs": [],
   "source": [
    "df_obese_total_pivot['Population'] = (df_obese_total_pivot['Total Absolute']*100) / df_obese_total_pivot['Total Percentage']"
   ]
  },
  {
   "cell_type": "code",
   "execution_count": null,
   "id": "6edb54a4",
   "metadata": {},
   "outputs": [],
   "source": [
    "df_obese_total_pivot.to_pickle(root_pickle + 'Obesity_Total_Pivot.pkl')"
   ]
  },
  {
   "cell_type": "code",
   "execution_count": null,
   "id": "1362346d",
   "metadata": {},
   "outputs": [],
   "source": [
    "df_obese_total_pivot = pd.read_pickle(root_pickle +'Obesity_Total_Pivot.pkl')\n",
    "df_obese_total_pivot.head(5)"
   ]
  },
  {
   "cell_type": "markdown",
   "id": "9a7f25f9",
   "metadata": {},
   "source": [
    "#### Saving pickle file for gender abolute and percentage "
   ]
  },
  {
   "cell_type": "code",
   "execution_count": null,
   "id": "90d01043",
   "metadata": {},
   "outputs": [],
   "source": [
    "df_obese_gender_pivot = df_obese_pivot[['State','County','CountyFIPS', 'Year', 'Gender Absolute','Gender Percentage','Gender','Grocery Tax','Restaurant Tax']]\n",
    "df_obese_gender_pivot.drop_duplicates(inplace=True)"
   ]
  },
  {
   "cell_type": "code",
   "execution_count": null,
   "id": "7d474a25",
   "metadata": {},
   "outputs": [],
   "source": [
    "df_obese_gender_pivot['tax_delta'] = df_obese_gender_pivot['Restaurant Tax'] - df_obese_gender_pivot['Grocery Tax']"
   ]
  },
  {
   "cell_type": "code",
   "execution_count": null,
   "id": "397ee89c",
   "metadata": {},
   "outputs": [],
   "source": [
    "df_obese_gender_pivot['Population'] = (df_obese_gender_pivot['Gender Absolute']*100) / df_obese_gender_pivot['Gender Percentage']"
   ]
  },
  {
   "cell_type": "code",
   "execution_count": null,
   "id": "1ad5f092",
   "metadata": {},
   "outputs": [],
   "source": [
    "df_obese_gender_pivot.to_pickle(root_pickle + 'Obesity_Gender_Pivot.pkl')"
   ]
  },
  {
   "cell_type": "code",
   "execution_count": null,
   "id": "1a0f14f7",
   "metadata": {},
   "outputs": [],
   "source": [
    "df_obese_gender_pivot = pd.read_pickle(root_pickle +'Obesity_Gender_Pivot.pkl')\n",
    "df_obese_gender_pivot.head(5)"
   ]
  },
  {
   "cell_type": "markdown",
   "id": "59a49595",
   "metadata": {},
   "source": [
    "#### Saving pickle file for age abolute and percentage"
   ]
  },
  {
   "cell_type": "code",
   "execution_count": null,
   "id": "4a525eb6",
   "metadata": {},
   "outputs": [],
   "source": [
    "df_obese_age_pivot = df_obese_pivot[['State','County','CountyFIPS', 'Year', 'Age Obesity Absolute','Age Obesity Percentage','Age','Grocery Tax','Restaurant Tax']]\n",
    "df_obese_age_pivot.drop_duplicates(inplace=True)"
   ]
  },
  {
   "cell_type": "code",
   "execution_count": null,
   "id": "34e7e2a2",
   "metadata": {},
   "outputs": [],
   "source": [
    "df_obese_age_pivot['tax_delta'] = df_obese_age_pivot['Restaurant Tax'] - df_obese_age_pivot['Grocery Tax']"
   ]
  },
  {
   "cell_type": "code",
   "execution_count": null,
   "id": "b53890c8",
   "metadata": {},
   "outputs": [],
   "source": [
    "df_obese_age_pivot['Population'] = (df_obese_age_pivot['Age Obesity Absolute']*100) / df_obese_age_pivot['Age Obesity Percentage']"
   ]
  },
  {
   "cell_type": "code",
   "execution_count": null,
   "id": "13c67404",
   "metadata": {},
   "outputs": [],
   "source": [
    "df_obese_age_pivot.to_pickle(root_pickle + 'Obesity_Age_Pivot.pkl')"
   ]
  },
  {
   "cell_type": "code",
   "execution_count": null,
   "id": "bc5b7687",
   "metadata": {},
   "outputs": [],
   "source": [
    "df_obese_age_pivot = pd.read_pickle(root_pickle +'Obesity_Age_Pivot.pkl')\n",
    "df_obese_age_pivot.head(5)"
   ]
  }
 ],
 "metadata": {
  "kernelspec": {
   "display_name": "Python 3 (ipykernel)",
   "language": "python",
   "name": "python3"
  },
  "language_info": {
   "codemirror_mode": {
    "name": "ipython",
    "version": 3
   },
   "file_extension": ".py",
   "mimetype": "text/x-python",
   "name": "python",
   "nbconvert_exporter": "python",
   "pygments_lexer": "ipython3",
   "version": "3.9.13"
  }
 },
 "nbformat": 4,
 "nbformat_minor": 5
}
